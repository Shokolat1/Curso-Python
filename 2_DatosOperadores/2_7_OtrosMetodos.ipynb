{
 "cells": [
  {
   "attachments": {},
   "cell_type": "markdown",
   "metadata": {},
   "source": [
    "# <font color=\"skyblue\"> **2.7 Más Métodos** </font>\n",
    "\n",
    "### <font color=\"skyblue\"> **a) Lectura de Teclado** </font>\n",
    "\n",
    "#### Se usa la función _input()_ para poder asignar valores string a una variable usando el teclado. Se puede convertir el tipo de ese valor después."
   ]
  },
  {
   "cell_type": "code",
   "execution_count": 2,
   "metadata": {},
   "outputs": [
    {
     "name": "stdout",
     "output_type": "stream",
     "text": [
      "Hola\n"
     ]
    }
   ],
   "source": [
    "variable = input()\n",
    "print(variable)"
   ]
  },
  {
   "attachments": {},
   "cell_type": "markdown",
   "metadata": {},
   "source": [
    "### <font color=\"skyblue\"> **b) Formateo** </font>\n",
    "\n",
    "#### Existen 2 maneras para reemplazar \"espacios\" dentro de un sring, convirtiéndolo en una cadena dinámica.\n",
    "* Colocar { } en los espacios donde se vaya a reemplazar por valores. Estos últimos se definen en el método _.format(valor1, valor2, ..., valorN)_.\n",
    "    * También se pueden usar variables en este método.\n",
    "    * Se puede cambiar el orden de aparición de valores usando números dentro de las { }, comenzando por el 0.\n",
    "* Colocar llaves dentro de un string y la \"f\" delante de este. Luego, colocar { _variable_ } en los espacios correspondientes."
   ]
  },
  {
   "cell_type": "code",
   "execution_count": 7,
   "metadata": {},
   "outputs": [
    {
     "name": "stdout",
     "output_type": "stream",
     "text": [
      "Hola es el primer valor y Mundo es el segundo\n",
      "Se cambia el orden y Mundo aparece primero, luego Hola\n",
      "El valor de Abdo es True\n"
     ]
    }
   ],
   "source": [
    "print('{} es el primer valor y {} es el segundo' .format(\"Hola\", \"Mundo\"))\n",
    "print('Se cambia el orden y {1} aparece primero, luego {0}' .format(\"Hola\", \"Mundo\"))\n",
    "\n",
    "nombre = 'Abdo'\n",
    "x = True\n",
    "\n",
    "print(f'El valor de {nombre} es {x}')"
   ]
  }
 ],
 "metadata": {
  "kernelspec": {
   "display_name": "Python 3",
   "language": "python",
   "name": "python3"
  },
  "language_info": {
   "codemirror_mode": {
    "name": "ipython",
    "version": 3
   },
   "file_extension": ".py",
   "mimetype": "text/x-python",
   "name": "python",
   "nbconvert_exporter": "python",
   "pygments_lexer": "ipython3",
   "version": "3.11.2"
  },
  "orig_nbformat": 4
 },
 "nbformat": 4,
 "nbformat_minor": 2
}
