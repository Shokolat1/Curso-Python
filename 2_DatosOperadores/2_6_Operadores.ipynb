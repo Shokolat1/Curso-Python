{
 "cells": [
  {
   "attachments": {},
   "cell_type": "markdown",
   "metadata": {},
   "source": [
    "# <font color=\"skyblue\"> **2.6 Operadores** </font>\n",
    "\n",
    "#### **Los operadores aritméticos sirven para datos numéricos, así como otros tipos de datos como strings o listas.**\n",
    "\n",
    "### <font color=\"skyblue\"> **a) Adición** </font>\n",
    "\n",
    "#### Para strings, tuplas y listas se seguirá usando el formato (a + b)."
   ]
  },
  {
   "cell_type": "code",
   "execution_count": 1,
   "metadata": {},
   "outputs": [
    {
     "data": {
      "text/plain": [
       "38.5"
      ]
     },
     "execution_count": 1,
     "metadata": {},
     "output_type": "execute_result"
    }
   ],
   "source": [
    "8 + 30.5"
   ]
  },
  {
   "cell_type": "code",
   "execution_count": 3,
   "metadata": {},
   "outputs": [
    {
     "data": {
      "text/plain": [
       "'Hola, amigo!'"
      ]
     },
     "execution_count": 3,
     "metadata": {},
     "output_type": "execute_result"
    }
   ],
   "source": [
    "\"Hola,\" + \" amigo!\""
   ]
  },
  {
   "attachments": {},
   "cell_type": "markdown",
   "metadata": {},
   "source": [
    "### <font color=\"skyblue\"> **b) Sustracción o Resta** </font>"
   ]
  },
  {
   "cell_type": "code",
   "execution_count": 8,
   "metadata": {},
   "outputs": [
    {
     "data": {
      "text/plain": [
       "19"
      ]
     },
     "execution_count": 8,
     "metadata": {},
     "output_type": "execute_result"
    }
   ],
   "source": [
    "49 - 30"
   ]
  },
  {
   "attachments": {},
   "cell_type": "markdown",
   "metadata": {},
   "source": [
    "### <font color=\"skyblue\"> **c) Multiplicación** </font>\n",
    "\n",
    "#### Para strings, tuplas y listas se seguirá usando el formato (a * b)."
   ]
  },
  {
   "cell_type": "code",
   "execution_count": 9,
   "metadata": {},
   "outputs": [
    {
     "data": {
      "text/plain": [
       "180"
      ]
     },
     "execution_count": 9,
     "metadata": {},
     "output_type": "execute_result"
    }
   ],
   "source": [
    "30 * 6"
   ]
  },
  {
   "cell_type": "code",
   "execution_count": 10,
   "metadata": {},
   "outputs": [
    {
     "data": {
      "text/plain": [
       "'TruTruTruTruTruTru'"
      ]
     },
     "execution_count": 10,
     "metadata": {},
     "output_type": "execute_result"
    }
   ],
   "source": [
    "\"TruTru\" * 3"
   ]
  },
  {
   "attachments": {},
   "cell_type": "markdown",
   "metadata": {},
   "source": [
    "### <font color=\"skyblue\"> **d) División** </font>\n",
    "\n",
    "#### Se usará el formato (a / b)."
   ]
  },
  {
   "cell_type": "code",
   "execution_count": 16,
   "metadata": {},
   "outputs": [
    {
     "data": {
      "text/plain": [
       "2.0"
      ]
     },
     "execution_count": 16,
     "metadata": {},
     "output_type": "execute_result"
    }
   ],
   "source": [
    "10 / 5"
   ]
  },
  {
   "attachments": {},
   "cell_type": "markdown",
   "metadata": {},
   "source": [
    "### <font color=\"skyblue\"> **e) División Entera Truncada** </font>\n",
    "\n",
    "#### Nos da como resultado un valor int. Redondea hacia abajo los valores decimales. Se usa el formato (a // b)"
   ]
  },
  {
   "cell_type": "code",
   "execution_count": 14,
   "metadata": {},
   "outputs": [
    {
     "data": {
      "text/plain": [
       "2"
      ]
     },
     "execution_count": 14,
     "metadata": {},
     "output_type": "execute_result"
    }
   ],
   "source": [
    "10 // 5"
   ]
  },
  {
   "attachments": {},
   "cell_type": "markdown",
   "metadata": {},
   "source": [
    "### <font color=\"skyblue\"> **f) Módulo o Residuo de la División** </font>\n",
    "\n",
    "#### Sigue el formato (a % b)"
   ]
  },
  {
   "cell_type": "code",
   "execution_count": 17,
   "metadata": {},
   "outputs": [
    {
     "name": "stdout",
     "output_type": "stream",
     "text": [
      "1\n"
     ]
    }
   ],
   "source": [
    "print(5 % 2)"
   ]
  },
  {
   "attachments": {},
   "cell_type": "markdown",
   "metadata": {},
   "source": [
    "### <font color=\"skyblue\"> **g) Exponenciación** </font>\n",
    "\n",
    "#### Se usará el formato (a ** b)."
   ]
  },
  {
   "cell_type": "code",
   "execution_count": 18,
   "metadata": {},
   "outputs": [
    {
     "data": {
      "text/plain": [
       "16"
      ]
     },
     "execution_count": 18,
     "metadata": {},
     "output_type": "execute_result"
    }
   ],
   "source": [
    "4 ** 2"
   ]
  },
  {
   "attachments": {},
   "cell_type": "markdown",
   "metadata": {},
   "source": [
    "### <font color=\"skyblue\"> **h) Operadores de Asignación (Acumuladores)** </font>\n",
    "\n",
    "#### Nos facilita escribir código. Tenemos los siguientes:\n",
    "* =\n",
    "* -=\n",
    "* +=\n",
    "* /=\n",
    "* *=\n",
    "* %=\n",
    "* //=\n",
    "* **="
   ]
  },
  {
   "cell_type": "code",
   "execution_count": 21,
   "metadata": {},
   "outputs": [
    {
     "name": "stdout",
     "output_type": "stream",
     "text": [
      "13\n"
     ]
    }
   ],
   "source": [
    "age = 10\n",
    "age = age - 4\n",
    "age += 7\n",
    "print(age)"
   ]
  },
  {
   "attachments": {},
   "cell_type": "markdown",
   "metadata": {},
   "source": [
    "### <font color=\"skyblue\"> **Operadores de Asignación (Contadores)** </font>\n",
    "\n",
    "#### En Python no existen los operadores ++ o -- usados usualmente como contadores (en caso de desear incrementar o decrementar el valor de alguna variable en 1)."
   ]
  },
  {
   "attachments": {},
   "cell_type": "markdown",
   "metadata": {},
   "source": [
    "### <font color=\"skyblue\"> **i) Operadores Lógicos** </font>\n",
    "\n",
    "#### En Python los operadores lógicos, los cuales siguen las reglas de la lógica proposicional. Hace comparaciones entre booleanos\n",
    "\n",
    "* AND (Busca que ambos valores sean iguales para regresar **True**)\n",
    "    * True AND True = True\n",
    "    * True AND False = False\n",
    "    * False AND False = False\n",
    "* OR (Busca uno u otro; con que uno sea **True**, regresa **True**)\n",
    "    * True OR True = True\n",
    "    * True OR False = True\n",
    "    * False OR False = False\n",
    "* NOT (Regresa valores contrarios)"
   ]
  },
  {
   "attachments": {},
   "cell_type": "markdown",
   "metadata": {},
   "source": [
    "### <font color=\"skyblue\"> **j) Operadores de Comparación** </font>\n",
    "\n",
    "#### En Python los operadores de comparación, regresan valores booleanos al hacer comparaciones entre valores\n",
    "\n",
    "* Comparamos igualdad usando el operador \\== \n",
    "* Comparamos desigualdad usando el operador \\!=\n",
    "* Comparamos magnitudes usando <, >, <=, >=\n",
    "\n",
    "###### **_OJO:_ También aplican a las cadenas de caracteres aplicando ASCII.**"
   ]
  },
  {
   "cell_type": "code",
   "execution_count": 1,
   "metadata": {},
   "outputs": [
    {
     "name": "stdout",
     "output_type": "stream",
     "text": [
      "True\n",
      "False\n",
      "True\n",
      "False\n"
     ]
    }
   ],
   "source": [
    "print(2 >= 1)\n",
    "print(2 <= 1)\n",
    "print(2 > 1)\n",
    "print(2 < 1)"
   ]
  }
 ],
 "metadata": {
  "kernelspec": {
   "display_name": "Python 3",
   "language": "python",
   "name": "python3"
  },
  "language_info": {
   "codemirror_mode": {
    "name": "ipython",
    "version": 3
   },
   "file_extension": ".py",
   "mimetype": "text/x-python",
   "name": "python",
   "nbconvert_exporter": "python",
   "pygments_lexer": "ipython3",
   "version": "3.11.2"
  },
  "orig_nbformat": 4
 },
 "nbformat": 4,
 "nbformat_minor": 2
}
