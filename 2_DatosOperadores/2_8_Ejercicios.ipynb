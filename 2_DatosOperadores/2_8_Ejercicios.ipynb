{
 "cells": [
  {
   "attachments": {},
   "cell_type": "markdown",
   "metadata": {},
   "source": [
    "#### **1) Define una variable edad y asignale un valor entero**\n",
    "\n",
    "+ Muestra su valor en pantalla\n",
    "+ Define otra variable edad_cadena que contenga el valor de edad como una cadena de caracteres\n",
    "+ Comprubea el tipo de la nueva variable\n",
    "+ Utiliza la variable de edad y calcula la edad que tendría esa persona en el año 2035"
   ]
  },
  {
   "cell_type": "code",
   "execution_count": 1,
   "metadata": {},
   "outputs": [
    {
     "name": "stdout",
     "output_type": "stream",
     "text": [
      "12\n",
      "<class 'str'>\n",
      "24\n"
     ]
    }
   ],
   "source": [
    "edad = 12\n",
    "print(edad)\n",
    "edad_cadena = \"12\"\n",
    "print(type(edad_cadena))\n",
    "print(2035 - 2023 + edad)"
   ]
  },
  {
   "attachments": {},
   "cell_type": "markdown",
   "metadata": {},
   "source": [
    "#### **2) Define una variable cadena = \"zehcnáS rotcéH ,01\", e invierte la cadena de tal manera que diga: \"El alumno x ha sacado la nota y\"**"
   ]
  },
  {
   "cell_type": "code",
   "execution_count": 3,
   "metadata": {},
   "outputs": [
    {
     "name": "stdout",
     "output_type": "stream",
     "text": [
      "Héctor Sánchez ha sacado 10\n"
     ]
    }
   ],
   "source": [
    "cadena = \"zehcnáS rotcéH ,01\"\n",
    "cadena = cadena[::-1]\n",
    "print(cadena[4:], 'ha sacado', cadena[:2])"
   ]
  },
  {
   "attachments": {},
   "cell_type": "markdown",
   "metadata": {},
   "source": [
    "#### **3) Obtén una cadena de caracteres del usuario. Imprime en pantalla 2 comparaciones distintas:**\n",
    "+ Si el texto es mayor o igual a 3 caracteres\n",
    "+ Si el texto es menor o igual a 12 caracteres"
   ]
  },
  {
   "cell_type": "code",
   "execution_count": 7,
   "metadata": {},
   "outputs": [
    {
     "name": "stdout",
     "output_type": "stream",
     "text": [
      "True\n",
      "True\n"
     ]
    }
   ],
   "source": [
    "txt = input()\n",
    "\n",
    "print(len(txt) >= 3)\n",
    "print(len(txt) <= 12)"
   ]
  },
  {
   "attachments": {},
   "cell_type": "markdown",
   "metadata": {},
   "source": [
    "#### **4) Obtén 2 nums del usuario e imprímelos en pantalla. Luego imprime las siguientes comparaciones:**\n",
    "+ Si el num 1 es igual al num 2\n",
    "+ Si el num 1 es diferente al num 2\n",
    "+ Si el num 1 es mayor que el num 2\n",
    "+ Si el num 1 es menor o igual que el num 2"
   ]
  },
  {
   "cell_type": "code",
   "execution_count": 8,
   "metadata": {},
   "outputs": [
    {
     "name": "stdout",
     "output_type": "stream",
     "text": [
      "False True False True\n"
     ]
    }
   ],
   "source": [
    "num1 = int(input('Dame el primer num'))\n",
    "num2 = int(input('Dame el segundo num'))\n",
    "\n",
    "print(num1 == num2, num1 != num2, num1 > num2, num1 <= num2)"
   ]
  }
 ],
 "metadata": {
  "kernelspec": {
   "display_name": "Python 3",
   "language": "python",
   "name": "python3"
  },
  "language_info": {
   "codemirror_mode": {
    "name": "ipython",
    "version": 3
   },
   "file_extension": ".py",
   "mimetype": "text/x-python",
   "name": "python",
   "nbconvert_exporter": "python",
   "pygments_lexer": "ipython3",
   "version": "3.11.2"
  },
  "orig_nbformat": 4
 },
 "nbformat": 4,
 "nbformat_minor": 2
}
