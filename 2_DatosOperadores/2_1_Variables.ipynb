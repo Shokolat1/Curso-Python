{
 "cells": [
  {
   "attachments": {},
   "cell_type": "markdown",
   "metadata": {},
   "source": [
    "# <font color=\"skyblue\"> **2.1 Variables** </font>\n",
    "\n",
    "#### **Python es un lenguaje de tipado dinámico. NO se necesitan declarar tipos de variables. Los nombres de las variables deben cumplir con esto:**\n",
    "\n",
    "* Sólo incluye caracteres alfanuméricos y guiones bajos (_)\n",
    "* **NO** contener espacios en blanco\n",
    "* **NO** comenzar con nums\n",
    "\n",
    "###### *<font color=\"scarlet\">**OJO:**</font> En Python, el nombre de las variables es sensible a mayúsculas y minúsculas. También existen palabras reservadas, las cuales NO podemos usar para nombrar variables.*\n",
    "\n",
    "#### El símbolo **\\=** se usa para asignar valores a variables\n",
    "\n",
    "###### *<font color=\"scarlet\">**OJO:**</font> El conjunto de identificador, símbolo de igualdad, y valor se le conoce como \"expresión\".*"
   ]
  },
  {
   "cell_type": "code",
   "execution_count": null,
   "metadata": {},
   "outputs": [],
   "source": [
    "x = 30\n",
    "nombre = 'Python para Principiantes'"
   ]
  },
  {
   "cell_type": "code",
   "execution_count": null,
   "metadata": {},
   "outputs": [],
   "source": [
    "x"
   ]
  },
  {
   "cell_type": "code",
   "execution_count": null,
   "metadata": {},
   "outputs": [],
   "source": [
    "nombre\n",
    "# print(x, nombre)\n",
    "# print(str(x) + nombre)"
   ]
  },
  {
   "attachments": {},
   "cell_type": "markdown",
   "metadata": {},
   "source": [
    "#### En Python, los tipos primitivos son nums, strings (cadenas de caracteres), booleanos (lógicos), tuplas, listas, y diccionarios."
   ]
  },
  {
   "attachments": {},
   "cell_type": "markdown",
   "metadata": {},
   "source": [
    "# <font color=\"skyblue\"> **Métodos** </font>\n",
    "\n",
    "#### **Son funciones de clase (cada tipo de var incluye funciones asociadas a ellas por default)**"
   ]
  },
  {
   "cell_type": "code",
   "execution_count": null,
   "metadata": {},
   "outputs": [],
   "source": [
    "x.__add__(10)"
   ]
  },
  {
   "cell_type": "code",
   "execution_count": null,
   "metadata": {},
   "outputs": [],
   "source": [
    "dicc = {'uno':x, 'dos': x.__add__(10)}\n",
    "# dicc = {'uno':x, 'dos': x += 10}\n",
    "\n",
    "# x += 10\n",
    "\n",
    "dicc, x"
   ]
  },
  {
   "cell_type": "code",
   "execution_count": null,
   "metadata": {},
   "outputs": [],
   "source": [
    "# Para usar template strings usamos llaves dentro de un string y la \"f\" delante del string\n",
    "# El .title() trae el valor string que una variable tiene por default\n",
    "# Para mandar llamar un valor de un diccionario usamos [] porque los diccionarios no son instancias de objetos (aún), pero están juntos como clave:valor. Imagina que de mientras es una instancia de un arreglo, pero en lugar de posiciones usas la clave a llamar.\n",
    "print(f\"{nombre.title()} cuesta {dicc['uno']} pesos \\n y el otro libro {dicc['dos']}\")"
   ]
  },
  {
   "attachments": {},
   "cell_type": "markdown",
   "metadata": {},
   "source": [
    "### **Se pueden checar los métodos disponibles de una var usando la función *dir(nombreDeVar)***"
   ]
  },
  {
   "cell_type": "code",
   "execution_count": null,
   "metadata": {},
   "outputs": [],
   "source": [
    "dir(x)"
   ]
  },
  {
   "attachments": {},
   "cell_type": "markdown",
   "metadata": {},
   "source": [
    "### **Se puede mostrar la info completa de una var usando la función *help(nombreDeVar)***"
   ]
  },
  {
   "cell_type": "code",
   "execution_count": null,
   "metadata": {},
   "outputs": [],
   "source": [
    "help(x)"
   ]
  }
 ],
 "metadata": {
  "kernelspec": {
   "display_name": "Python 3",
   "language": "python",
   "name": "python3"
  },
  "language_info": {
   "codemirror_mode": {
    "name": "ipython",
    "version": 3
   },
   "file_extension": ".py",
   "mimetype": "text/x-python",
   "name": "python",
   "nbconvert_exporter": "python",
   "pygments_lexer": "ipython3",
   "version": "3.11.2"
  },
  "orig_nbformat": 4
 },
 "nbformat": 4,
 "nbformat_minor": 2
}
