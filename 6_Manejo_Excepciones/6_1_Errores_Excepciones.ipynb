{
 "cells": [
  {
   "attachments": {},
   "cell_type": "markdown",
   "metadata": {},
   "source": [
    "# <font color=\"skyblue\"> **6.1 Errores y Excepciones** </font>\n",
    "\n",
    "## <font color=\"skyblue\"> **ERRORES** </font>\n",
    "\n",
    "#### **Los errores detienen el flujo del código al correr un programa.**\n",
    "\n",
    "### <font color=\"skyblue\"> **_Syntax Error_** </font>\n",
    "\n",
    "##### **Los podemos apreciar revisando el código; surge por error en sintaxis o escritura del código**"
   ]
  },
  {
   "cell_type": "code",
   "execution_count": 1,
   "metadata": {},
   "outputs": [
    {
     "ename": "SyntaxError",
     "evalue": "incomplete input (1446967594.py, line 1)",
     "output_type": "error",
     "traceback": [
      "\u001b[1;36m  Cell \u001b[1;32mIn[1], line 1\u001b[1;36m\u001b[0m\n\u001b[1;33m    print('Hola'\u001b[0m\n\u001b[1;37m                ^\u001b[0m\n\u001b[1;31mSyntaxError\u001b[0m\u001b[1;31m:\u001b[0m incomplete input\n"
     ]
    }
   ],
   "source": [
    "print('Hola'"
   ]
  },
  {
   "attachments": {},
   "cell_type": "markdown",
   "metadata": {},
   "source": [
    "### <font color=\"skyblue\"> **_Name Error_** </font>\n",
    "\n",
    "##### **Surge cuando nos equivocamos al declarar el nombre de un obj.**"
   ]
  },
  {
   "cell_type": "code",
   "execution_count": 2,
   "metadata": {},
   "outputs": [
    {
     "ename": "NameError",
     "evalue": "name 'pint' is not defined",
     "output_type": "error",
     "traceback": [
      "\u001b[1;31m---------------------------------------------------------------------------\u001b[0m",
      "\u001b[1;31mNameError\u001b[0m                                 Traceback (most recent call last)",
      "Cell \u001b[1;32mIn[2], line 1\u001b[0m\n\u001b[1;32m----> 1\u001b[0m pint(\u001b[39m'\u001b[39m\u001b[39mHola\u001b[39m\u001b[39m'\u001b[39m)\n",
      "\u001b[1;31mNameError\u001b[0m: name 'pint' is not defined"
     ]
    }
   ],
   "source": [
    "pint('Hola')"
   ]
  },
  {
   "attachments": {},
   "cell_type": "markdown",
   "metadata": {},
   "source": [
    "### <font color=\"skyblue\"> **_Index Error_** </font>\n",
    "\n",
    "##### **Esta clase de errores son usualmente identificados por el editor de código antes de ser ejecutado, pero pueden pasar desapercibidos.**"
   ]
  },
  {
   "cell_type": "code",
   "execution_count": 3,
   "metadata": {},
   "outputs": [
    {
     "ename": "IndexError",
     "evalue": "pop from empty list",
     "output_type": "error",
     "traceback": [
      "\u001b[1;31m---------------------------------------------------------------------------\u001b[0m",
      "\u001b[1;31mIndexError\u001b[0m                                Traceback (most recent call last)",
      "Cell \u001b[1;32mIn[3], line 2\u001b[0m\n\u001b[0;32m      1\u001b[0m lis \u001b[39m=\u001b[39m []\n\u001b[1;32m----> 2\u001b[0m lis\u001b[39m.\u001b[39;49mpop()\n",
      "\u001b[1;31mIndexError\u001b[0m: pop from empty list"
     ]
    }
   ],
   "source": [
    "lis = []\n",
    "lis.pop()"
   ]
  },
  {
   "cell_type": "code",
   "execution_count": 4,
   "metadata": {},
   "outputs": [
    {
     "ename": "TypeError",
     "evalue": "unsupported operand type(s) for /: 'str' and 'str'",
     "output_type": "error",
     "traceback": [
      "\u001b[1;31m---------------------------------------------------------------------------\u001b[0m",
      "\u001b[1;31mTypeError\u001b[0m                                 Traceback (most recent call last)",
      "Cell \u001b[1;32mIn[4], line 2\u001b[0m\n\u001b[0;32m      1\u001b[0m num \u001b[39m=\u001b[39m \u001b[39minput\u001b[39m(\u001b[39m'\u001b[39m\u001b[39mDame un num: \u001b[39m\u001b[39m'\u001b[39m)\n\u001b[1;32m----> 2\u001b[0m \u001b[39m'\u001b[39m\u001b[39mEl num \u001b[39m\u001b[39m{}\u001b[39;00m\u001b[39m dividido da \u001b[39m\u001b[39m{}\u001b[39;00m\u001b[39m'\u001b[39m\u001b[39m.\u001b[39mformat(num, num\u001b[39m/\u001b[39;49mnum)\n",
      "\u001b[1;31mTypeError\u001b[0m: unsupported operand type(s) for /: 'str' and 'str'"
     ]
    }
   ],
   "source": [
    "num = input('Dame un num: ')\n",
    "'El num {} dividido da {}'.format(num, num/num)"
   ]
  },
  {
   "cell_type": "code",
   "execution_count": 5,
   "metadata": {},
   "outputs": [
    {
     "ename": "ZeroDivisionError",
     "evalue": "division by zero",
     "output_type": "error",
     "traceback": [
      "\u001b[1;31m---------------------------------------------------------------------------\u001b[0m",
      "\u001b[1;31mZeroDivisionError\u001b[0m                         Traceback (most recent call last)",
      "Cell \u001b[1;32mIn[5], line 2\u001b[0m\n\u001b[0;32m      1\u001b[0m num \u001b[39m=\u001b[39m \u001b[39mint\u001b[39m(\u001b[39minput\u001b[39m(\u001b[39m'\u001b[39m\u001b[39mDame un num: \u001b[39m\u001b[39m'\u001b[39m))\n\u001b[1;32m----> 2\u001b[0m \u001b[39m'\u001b[39m\u001b[39mEl num \u001b[39m\u001b[39m{}\u001b[39;00m\u001b[39m dividido da \u001b[39m\u001b[39m{}\u001b[39;00m\u001b[39m'\u001b[39m\u001b[39m.\u001b[39mformat(num, num\u001b[39m/\u001b[39;49mnum)\n",
      "\u001b[1;31mZeroDivisionError\u001b[0m: division by zero"
     ]
    }
   ],
   "source": [
    "num = int(input('Dame un num: '))\n",
    "'El num {} dividido da {}'.format(num, num/num)"
   ]
  },
  {
   "attachments": {},
   "cell_type": "markdown",
   "metadata": {},
   "source": [
    "## <font color=\"skyblue\"> **EXCEPCIONES** </font>\n",
    "\n",
    "#### **Bloques de código que permiten continuar con la ejecución del código aún cuando presentan errores.**\n",
    "\n",
    "### <font color=\"skyblue\"> **_Try y Except_** </font>"
   ]
  },
  {
   "cell_type": "code",
   "execution_count": 1,
   "metadata": {},
   "outputs": [
    {
     "name": "stdout",
     "output_type": "stream",
     "text": [
      "Intente de nuevo\n",
      "El num 2 dividido da 1.0\n"
     ]
    }
   ],
   "source": [
    "while(True):\n",
    "    try:\n",
    "        num = int(input('Dame el num'))\n",
    "        print(f'El num {num} dividido da {num/num}')\n",
    "        break\n",
    "    except:\n",
    "        print('Intente de nuevo')"
   ]
  },
  {
   "attachments": {},
   "cell_type": "markdown",
   "metadata": {},
   "source": [
    "### <font color=\"skyblue\"> **_Else y Finally_** </font>"
   ]
  },
  {
   "cell_type": "code",
   "execution_count": 2,
   "metadata": {},
   "outputs": [
    {
     "name": "stdout",
     "output_type": "stream",
     "text": [
      "Intente de nuevo\n",
      "Fin del Bucle\n",
      "El num 4 dividido da 1.0\n",
      "Ejecución exitosa\n",
      "Fin del Bucle\n"
     ]
    }
   ],
   "source": [
    "while(True):\n",
    "    try:\n",
    "        num = int(input('Dame el num'))\n",
    "        print(f'El num {num} dividido da {num/num}')\n",
    "    except:\n",
    "        print('Intente de nuevo')\n",
    "    else:\n",
    "        print('Ejecución exitosa')\n",
    "        break\n",
    "    finally:\n",
    "        print('Fin del Bucle')"
   ]
  }
 ],
 "metadata": {
  "kernelspec": {
   "display_name": "Python 3",
   "language": "python",
   "name": "python3"
  },
  "language_info": {
   "codemirror_mode": {
    "name": "ipython",
    "version": 3
   },
   "file_extension": ".py",
   "mimetype": "text/x-python",
   "name": "python",
   "nbconvert_exporter": "python",
   "pygments_lexer": "ipython3",
   "version": "3.11.2"
  },
  "orig_nbformat": 4
 },
 "nbformat": 4,
 "nbformat_minor": 2
}
