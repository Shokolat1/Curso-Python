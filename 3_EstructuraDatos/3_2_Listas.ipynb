{
 "cells": [
  {
   "attachments": {},
   "cell_type": "markdown",
   "metadata": {},
   "source": [
    "# <font color=\"skyblue\"> **3.2 Listas** </font>\n",
    "\n",
    "#### **Las *listas* son un tipo de dato compuesto de uno o más elementos.**\n",
    "\n",
    "* Siempre comienza el conteo a partir del 0 (asociado al primer elemento).\n",
    "* Los elementos dentro de una lista pueden ser de todo tipo de dato.\n",
    "* Se puede acceder a cada elemento de la lista usando su índice correspondiente."
   ]
  },
  {
   "cell_type": "code",
   "execution_count": 2,
   "metadata": {},
   "outputs": [
    {
     "name": "stdout",
     "output_type": "stream",
     "text": [
      "<class 'list'>\n",
      "3\n"
     ]
    }
   ],
   "source": [
    "strList = [\"1\", \"2\", \"3\", \"4\", \"5\"]\n",
    "numList = [1, 2, 3, 4, 5]\n",
    "print(type(strList))\n",
    "print(numList[2])"
   ]
  },
  {
   "attachments": {},
   "cell_type": "markdown",
   "metadata": {},
   "source": [
    "### **Mutabilidad**\n",
    "\n",
    "##### Las listas tienen la característica de poder modificar el valor de alguno de sus elementos (esto es conocido como mutabilidad)."
   ]
  },
  {
   "cell_type": "code",
   "execution_count": 3,
   "metadata": {},
   "outputs": [
    {
     "data": {
      "text/plain": [
       "[1, 2, 7, 4, 5]"
      ]
     },
     "execution_count": 3,
     "metadata": {},
     "output_type": "execute_result"
    }
   ],
   "source": [
    "numList[2] = 7\n",
    "numList"
   ]
  },
  {
   "attachments": {},
   "cell_type": "markdown",
   "metadata": {},
   "source": [
    "## <font color='skyblue'> **_Métodos_** </font>\n",
    "\n",
    "#### **El método _range()_ nos permite inicializar una lista de números dentro de cierto rango.**\n",
    "* Sintaxis: range(a, b, in)\n",
    "    * a = límite inferior de la secuencia de nums\n",
    "    * b = límite superior de la secuencia de nums\n",
    "    * in = unidad de incremento (opcional; cuánto se agregará de un elemento a otro; por default es 1)"
   ]
  },
  {
   "cell_type": "code",
   "execution_count": 6,
   "metadata": {},
   "outputs": [
    {
     "name": "stdout",
     "output_type": "stream",
     "text": [
      "range(0, 20, 2)\n",
      "[0, 2, 4, 6, 8, 10, 12, 14, 16, 18]\n"
     ]
    }
   ],
   "source": [
    "rango = range(0, 20, 2)\n",
    "listaRango = list(rango)\n",
    "print(listaRango)"
   ]
  },
  {
   "attachments": {},
   "cell_type": "markdown",
   "metadata": {},
   "source": [
    "#### **El método _append()_ nos permite añadir elementos a una lista.**\n",
    "* Sintaxis: append(*var_o_valor*)\n",
    "* También podemos usar un **+** para agregar valores a una lista o juntar listas"
   ]
  },
  {
   "cell_type": "code",
   "execution_count": 7,
   "metadata": {},
   "outputs": [
    {
     "name": "stdout",
     "output_type": "stream",
     "text": [
      "[0, 2, 4, 6, 8, 10, 12, 14, 16, 18, 'Hola Mundo']\n",
      "[0, 2, 4, 6, 8, 10, 12, 14, 16, 18, 'Hola Mundo', 3.14, 21, 'Abdo', True]\n"
     ]
    }
   ],
   "source": [
    "listaRango.append(\"Hola Mundo\")\n",
    "print(listaRango)\n",
    "print(listaRango + [3.14, 21, \"Abdo\", True])"
   ]
  },
  {
   "attachments": {},
   "cell_type": "markdown",
   "metadata": {},
   "source": [
    "#### **El método _len()_ nos permite conocer el num de elementos dentro de una lista.**\n",
    "* Sintaxis: len(_lista_)"
   ]
  },
  {
   "cell_type": "code",
   "execution_count": 9,
   "metadata": {},
   "outputs": [
    {
     "name": "stdout",
     "output_type": "stream",
     "text": [
      "[0, 2, 4, 6, 8, 10, 12, 14, 16, 18, 'Hola Mundo']\n",
      "11\n"
     ]
    }
   ],
   "source": [
    "print(listaRango)\n",
    "print(len(listaRango))"
   ]
  },
  {
   "attachments": {},
   "cell_type": "markdown",
   "metadata": {},
   "source": [
    "#### **También podemos aplicar _Slicing_ dentro de las listas**"
   ]
  },
  {
   "cell_type": "code",
   "execution_count": 14,
   "metadata": {},
   "outputs": [
    {
     "data": {
      "text/plain": [
       "['Lista A', 34, 'Verde', 12, 'Azul', 23, 'Morado', 6, 'Lista C', 78]"
      ]
     },
     "execution_count": 14,
     "metadata": {},
     "output_type": "execute_result"
    }
   ],
   "source": [
    "listaX = ['Lista A', 34, 'Lista B', 56, 'Lista C', 78]\n",
    "listaX[2:4] = ['Verde', 12, 'Azul', 23, 'Morado', 6]\n",
    "listaX"
   ]
  },
  {
   "attachments": {},
   "cell_type": "markdown",
   "metadata": {},
   "source": [
    "#### **Se pueden crear listas de múltiples dimensiones**"
   ]
  },
  {
   "cell_type": "code",
   "execution_count": 15,
   "metadata": {},
   "outputs": [
    {
     "data": {
      "text/plain": [
       "[[0, 'a', False],\n",
       " ['Hola', 12.12],\n",
       " [['Abdo', 'Sabag', 22], ['Verde', 'Azul', 'Morado']]]"
      ]
     },
     "execution_count": 15,
     "metadata": {},
     "output_type": "execute_result"
    }
   ],
   "source": [
    "list1 = [0, 'a', False]\n",
    "list2 = ['Hola', 12.12]\n",
    "list3 = [['Abdo', 'Sabag', 22], ['Verde', 'Azul', 'Morado']]\n",
    "multipleDim = [list1, list2, list3]\n",
    "multipleDim"
   ]
  }
 ],
 "metadata": {
  "kernelspec": {
   "display_name": "Python 3",
   "language": "python",
   "name": "python3"
  },
  "language_info": {
   "codemirror_mode": {
    "name": "ipython",
    "version": 3
   },
   "file_extension": ".py",
   "mimetype": "text/x-python",
   "name": "python",
   "nbconvert_exporter": "python",
   "pygments_lexer": "ipython3",
   "version": "3.11.2"
  },
  "orig_nbformat": 4
 },
 "nbformat": 4,
 "nbformat_minor": 2
}
