{
 "cells": [
  {
   "attachments": {},
   "cell_type": "markdown",
   "metadata": {},
   "source": [
    "#### **1) Encuentra el error**\n",
    "```python\n",
    "num1 = 4\n",
    "num2 = 3\n",
    "num3 = 3\n",
    "\n",
    "media = num1 + num2 + num3 / 3\n",
    "\n",
    "print(media)\n",
    "```"
   ]
  },
  {
   "cell_type": "code",
   "execution_count": 1,
   "metadata": {},
   "outputs": [
    {
     "name": "stdout",
     "output_type": "stream",
     "text": [
      "3\n"
     ]
    }
   ],
   "source": [
    "num1 = 4\n",
    "num2 = 3\n",
    "num3 = 3\n",
    "\n",
    "# El método round() nos permite redondear nums\n",
    "media = round((num1 + num2 + num3) / 3)\n",
    "\n",
    "print(media)"
   ]
  },
  {
   "attachments": {},
   "cell_type": "markdown",
   "metadata": {},
   "source": [
    "#### **2) En la siguiente matriz, el 4to elem siempre es la suma de los 3 anteriores. Usando indexación corrige las listas que no cumplan con esto...**\n",
    "```python\n",
    "mat = [\n",
    "    [1, 1, 1, 3],\n",
    "    [2, 2, 2, 7],\n",
    "    [3, 3, 3, 9],\n",
    "    [4, 4, 4, 13],\n",
    "]\n",
    "\n",
    "print(mat)\n",
    "```"
   ]
  },
  {
   "cell_type": "code",
   "execution_count": 4,
   "metadata": {},
   "outputs": [
    {
     "name": "stdout",
     "output_type": "stream",
     "text": [
      "[[1, 1, 1, 3], [2, 2, 2, 6], [3, 3, 3, 9], [4, 4, 4, 12]]\n"
     ]
    }
   ],
   "source": [
    "mat = [\n",
    "    [1, 1, 1, 3],\n",
    "    [2, 2, 2, 7],\n",
    "    [3, 3, 3, 9],\n",
    "    [4, 4, 4, 13],\n",
    "]\n",
    "\n",
    "# Dinámicamente encontrar el último elemento (usar en caso de tener\n",
    "# listas con cantidades disparejas de elementos)\n",
    "LA = 0\n",
    "LB = 0\n",
    "\n",
    "for i in range(3):\n",
    "    LA += mat[1][i]\n",
    "    LB += mat[-1][i]\n",
    "\n",
    "mat[1][-1] = LA\n",
    "mat[-1][-1] = LB\n",
    "\n",
    "# mat[1][3] = 6\n",
    "# mat[3][3] = 12\n",
    "\n",
    "print(mat)"
   ]
  },
  {
   "attachments": {},
   "cell_type": "markdown",
   "metadata": {},
   "source": [
    "#### **3) En el desarrollo de un juego se te encarga configurar y balancear cada clase de personaje. Partiendo de que la estadistica base es 2, cumple lo siguiente:**\n",
    "* El caballero tiene 2x la vida y defensa de un guerrero\n",
    "* El guerrero tiene 2x el ataque y alcance que un caballero\n",
    "* El arquero tiene la misma vida y ataque que un guerrero, pero la mitad de su defensa y doble su alcance.\n",
    "\n",
    "```python\n",
    "caballero = {'vida': 2, 'ataque': 2, 'defensa': 2, 'alcance': 2}\n",
    "guerrero = {'vida': 2, 'ataque': 2, 'defensa': 2, 'alcance': 2}\n",
    "arquero = {'vida': 2, 'ataque': 2, 'defensa': 2, 'alcance': 2}\n",
    "```"
   ]
  },
  {
   "cell_type": "code",
   "execution_count": 6,
   "metadata": {},
   "outputs": [
    {
     "name": "stdout",
     "output_type": "stream",
     "text": [
      "Caballero: {'vida': 4, 'ataque': 2, 'defensa': 4, 'alcance': 2}\n",
      "Guerrero: {'vida': 2, 'ataque': 4, 'defensa': 2, 'alcance': 4}\n",
      "Arquero: {'vida': 2, 'ataque': 4, 'defensa': 1, 'alcance': 8}\n"
     ]
    }
   ],
   "source": [
    "caballero = {'vida': 2, 'ataque': 2, 'defensa': 2, 'alcance': 2}\n",
    "guerrero = {'vida': 2, 'ataque': 2, 'defensa': 2, 'alcance': 2}\n",
    "arquero = {'vida': 2, 'ataque': 2, 'defensa': 2, 'alcance': 2}\n",
    "\n",
    "caballero['vida'] = guerrero['vida'] * 2\n",
    "caballero['defensa'] = guerrero['defensa'] * 2\n",
    "\n",
    "guerrero['ataque'] = caballero['ataque'] * 2\n",
    "guerrero['alcance'] = caballero['alcance'] * 2\n",
    "\n",
    "arquero['vida'] = guerrero['vida']\n",
    "arquero['ataque'] = guerrero['ataque']\n",
    "arquero['defensa'] = round(guerrero['defensa'] / 2)\n",
    "arquero['alcance'] = guerrero['alcance'] * 2\n",
    "\n",
    "print(f'Caballero: {caballero}')\n",
    "print(f'Guerrero: {guerrero}')\n",
    "print(f'Arquero: {arquero}')"
   ]
  },
  {
   "attachments": {},
   "cell_type": "markdown",
   "metadata": {},
   "source": [
    "#### **4) **\n",
    "```python\n",
    "mat = [\n",
    "    [1, 1, 1, 3],\n",
    "    [2, 2, 2, 7],\n",
    "    [3, 3, 3, 9],\n",
    "    [4, 4, 4, 13],\n",
    "]\n",
    "\n",
    "print(mat)\n",
    "```"
   ]
  }
 ],
 "metadata": {
  "kernelspec": {
   "display_name": "Python 3",
   "language": "python",
   "name": "python3"
  },
  "language_info": {
   "codemirror_mode": {
    "name": "ipython",
    "version": 3
   },
   "file_extension": ".py",
   "mimetype": "text/x-python",
   "name": "python",
   "nbconvert_exporter": "python",
   "pygments_lexer": "ipython3",
   "version": "3.11.2"
  },
  "orig_nbformat": 4
 },
 "nbformat": 4,
 "nbformat_minor": 2
}
