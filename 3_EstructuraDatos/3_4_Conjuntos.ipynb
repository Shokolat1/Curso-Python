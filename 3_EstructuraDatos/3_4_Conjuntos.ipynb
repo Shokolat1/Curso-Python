{
 "cells": [
  {
   "attachments": {},
   "cell_type": "markdown",
   "metadata": {},
   "source": [
    "# <font color=\"skyblue\"> **3.4 Conjuntos** </font>\n",
    "\n",
    "#### **Los *conjuntos* son colecciones de datos que facilitan algunas operaciones, ya que sólo contienen datos únicos.**\n",
    "\n",
    "#### **Se diferencían de listas y tuplas debido a:**\n",
    "\n",
    "* Cada elemento es único\n",
    "* Los elementos no están ordenados\n",
    "* Los elementos deben estar entre { }"
   ]
  },
  {
   "cell_type": "code",
   "execution_count": 1,
   "metadata": {},
   "outputs": [
    {
     "name": "stdout",
     "output_type": "stream",
     "text": [
      "<class 'set'> {1, 2, 3}\n"
     ]
    }
   ],
   "source": [
    "conjVacio = set()\n",
    "conj = {1, 2, 3}\n",
    "print(type(conjVacio), conj)"
   ]
  },
  {
   "attachments": {},
   "cell_type": "markdown",
   "metadata": {},
   "source": [
    "## <font color='skyblue'> **_Métodos_** </font>\n",
    "\n",
    "#### **El método _add()_ permite agregar elementos al conjunto.**"
   ]
  },
  {
   "cell_type": "code",
   "execution_count": 4,
   "metadata": {},
   "outputs": [
    {
     "data": {
      "text/plain": [
       "{1, 2, 3, 4, 5, 'a', 'd', 's'}"
      ]
     },
     "execution_count": 4,
     "metadata": {},
     "output_type": "execute_result"
    }
   ],
   "source": [
    "conj.add(4)\n",
    "conj.add(5)\n",
    "conj.add(5)\n",
    "conj.add('a')\n",
    "conj.add('s')\n",
    "conj.add('s')\n",
    "conj.add('d')\n",
    "conj"
   ]
  },
  {
   "attachments": {},
   "cell_type": "markdown",
   "metadata": {},
   "source": [
    "#### **Los métodos _in_ y _not in_ nos permite verificar si está o no un valor en el conjunto.**"
   ]
  },
  {
   "cell_type": "code",
   "execution_count": 7,
   "metadata": {},
   "outputs": [
    {
     "name": "stdout",
     "output_type": "stream",
     "text": [
      "False\n",
      "False\n",
      "True\n"
     ]
    }
   ],
   "source": [
    "grupo = {'Sebas', 'Mir', 'Manu', 'Nassim'}\n",
    "print('Abdo' in grupo)      # No está en el grupo\n",
    "print('Mir' not in grupo)   # Sí está en el grupo\n",
    "print(8 not in grupo)       # No está en el grupo"
   ]
  },
  {
   "attachments": {},
   "cell_type": "markdown",
   "metadata": {},
   "source": [
    "#### **Un conjunto elimina automáticamente elementos duplicados.**"
   ]
  },
  {
   "cell_type": "code",
   "execution_count": 8,
   "metadata": {},
   "outputs": [
    {
     "data": {
      "text/plain": [
       "{4, 10}"
      ]
     },
     "execution_count": 8,
     "metadata": {},
     "output_type": "execute_result"
    }
   ],
   "source": [
    "nums = {10, 10, 4}\n",
    "nums"
   ]
  },
  {
   "attachments": {},
   "cell_type": "markdown",
   "metadata": {},
   "source": [
    "#### **_set()_ nos permite convertir listas a conjuntos.**"
   ]
  },
  {
   "cell_type": "code",
   "execution_count": 10,
   "metadata": {},
   "outputs": [
    {
     "name": "stdout",
     "output_type": "stream",
     "text": [
      "[0, 0, 9, 8, 7, 7, 6, 5]\n",
      "{0, 5, 6, 7, 8, 9}\n",
      "[0, 5, 6, 7, 8, 9]\n"
     ]
    }
   ],
   "source": [
    "extra = [0, 0, 9, 8, 7, 7, 6, 5]\n",
    "print(extra)\n",
    "\n",
    "a = set(extra)\n",
    "print(a)\n",
    "\n",
    "sinDuplicados = list(set(extra))\n",
    "print(sinDuplicados)"
   ]
  },
  {
   "attachments": {},
   "cell_type": "markdown",
   "metadata": {},
   "source": [
    "#### **Cuando aplicamos la conversión a una cadena, el conjunto resultante toma en cuenta cada letra para hacer el conjunto.**\n",
    "\n",
    "##### OJO: Recuerda que los strings son **LISTAS** de caracteres..."
   ]
  },
  {
   "cell_type": "code",
   "execution_count": 11,
   "metadata": {},
   "outputs": [
    {
     "data": {
      "text/plain": [
       "{'P', 'a', 'c', 'g', 'i', 'm', 'n', 'o', 'r', 't', 'u'}"
      ]
     },
     "execution_count": 11,
     "metadata": {},
     "output_type": "execute_result"
    }
   ],
   "source": [
    "trabalenguas = 'Parangaricutirimicuaro'\n",
    "set(trabalenguas)"
   ]
  }
 ],
 "metadata": {
  "kernelspec": {
   "display_name": "Python 3",
   "language": "python",
   "name": "python3"
  },
  "language_info": {
   "codemirror_mode": {
    "name": "ipython",
    "version": 3
   },
   "file_extension": ".py",
   "mimetype": "text/x-python",
   "name": "python",
   "nbconvert_exporter": "python",
   "pygments_lexer": "ipython3",
   "version": "3.11.2"
  },
  "orig_nbformat": 4
 },
 "nbformat": 4,
 "nbformat_minor": 2
}
