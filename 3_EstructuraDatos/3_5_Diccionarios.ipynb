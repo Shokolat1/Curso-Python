{
 "cells": [
  {
   "attachments": {},
   "cell_type": "markdown",
   "metadata": {},
   "source": [
    "# <font color=\"skyblue\"> **3.5 Diccionarios** </font>\n",
    "\n",
    "#### **Los *diccionarios* son colecciones de datos similares a las listas.**\n",
    "\n",
    "#### **Características:**\n",
    "\n",
    "* Elementos definidos por _key : value_\n",
    "* Las _key_ funcionan como índice de cada elemento (no son sólamente nums)"
   ]
  },
  {
   "cell_type": "code",
   "execution_count": 6,
   "metadata": {},
   "outputs": [
    {
     "name": "stdout",
     "output_type": "stream",
     "text": [
      "{1: 'Abdo', 2: 'Sabag', 3: 22}\n",
      "red\n",
      "Sabag\n"
     ]
    }
   ],
   "source": [
    "colores = {'rojo': 'red', 'morado': 'purple', 'cafe': 'brown'}\n",
    "pers = {1: 'Abdo', 2: 'Sabag', 3: 22}\n",
    "\n",
    "print(pers)\n",
    "print(colores['rojo'])\n",
    "print(pers[2])"
   ]
  },
  {
   "attachments": {},
   "cell_type": "markdown",
   "metadata": {},
   "source": [
    "#### **Se pueden agregar nuevos valores usando la sintaxis _diccionario[key] = valor_**"
   ]
  },
  {
   "cell_type": "code",
   "execution_count": 3,
   "metadata": {},
   "outputs": [
    {
     "name": "stdout",
     "output_type": "stream",
     "text": [
      "{'rojo': 'red', 'morado': 'purple', 'cafe': 'brown', 'rosa': 'pink', 'blanco': 'white'}\n"
     ]
    }
   ],
   "source": [
    "colores['rosa'] = 'pink'\n",
    "colores['blanco'] = 'white'\n",
    "\n",
    "print(colores)"
   ]
  },
  {
   "cell_type": "code",
   "execution_count": 1,
   "metadata": {},
   "outputs": [
    {
     "name": "stdout",
     "output_type": "stream",
     "text": [
      "21\n",
      "{'Abdo': 24, 'Vic': 21, 'Felipe': 20}\n",
      "41\n"
     ]
    }
   ],
   "source": [
    "ages = {'Abdo': 22, 'Vic': 21, 'Felipe': 20}\n",
    "\n",
    "print(ages['Vic'])\n",
    "\n",
    "ages['Abdo'] += 2\n",
    "\n",
    "print(ages)\n",
    "\n",
    "print(ages['Vic'] + ages['Felipe'])"
   ]
  },
  {
   "attachments": {},
   "cell_type": "markdown",
   "metadata": {},
   "source": [
    "## <font color='skyblue'> **_Métodos_** </font>\n",
    "\n",
    "#### **Usando el bucle _for_ podemos recorrer elementos de un diccionario.**\n",
    "* Sintaxis: for _varTemporal_ in _diccionario_: ... proceso"
   ]
  },
  {
   "cell_type": "code",
   "execution_count": 3,
   "metadata": {},
   "outputs": [
    {
     "name": "stdout",
     "output_type": "stream",
     "text": [
      "Abdo\n",
      "Vic\n",
      "Felipe\n",
      "24\n",
      "21\n",
      "20\n"
     ]
    }
   ],
   "source": [
    "# Imprime las keys\n",
    "for elem in ages:\n",
    "    print(elem)\n",
    "\n",
    "# Imprime los valores de las keys\n",
    "for val in ages:\n",
    "    print(ages[val])"
   ]
  },
  {
   "attachments": {},
   "cell_type": "markdown",
   "metadata": {},
   "source": [
    "#### **El método _items()_ nos devuelve _key_ y _value_.**\n",
    "* Sintaxis: _diccionario_.items()"
   ]
  },
  {
   "cell_type": "code",
   "execution_count": 4,
   "metadata": {},
   "outputs": [
    {
     "name": "stdout",
     "output_type": "stream",
     "text": [
      "Key: Abdo, Value: 24\n",
      "Key: Vic, Value: 21\n",
      "Key: Felipe, Value: 20\n"
     ]
    }
   ],
   "source": [
    "for x,y in ages.items():\n",
    "    print(f'Key: {x}, Value: {y}')"
   ]
  },
  {
   "attachments": {},
   "cell_type": "markdown",
   "metadata": {},
   "source": [
    "#### **El método _del()_ nos permite eliminar elementos de un diccionario.**\n",
    "* Sintaxis: del(_diccionario['key']_)"
   ]
  },
  {
   "cell_type": "code",
   "execution_count": 7,
   "metadata": {},
   "outputs": [
    {
     "name": "stdout",
     "output_type": "stream",
     "text": [
      "{'morado': 'purple', 'cafe': 'brown'}\n"
     ]
    }
   ],
   "source": [
    "del(colores['rojo'])\n",
    "print(colores)"
   ]
  },
  {
   "attachments": {},
   "cell_type": "markdown",
   "metadata": {},
   "source": [
    "#### **Hay que sacar provecho de combinar listas y diccionarios!**"
   ]
  },
  {
   "cell_type": "code",
   "execution_count": 10,
   "metadata": {},
   "outputs": [
    {
     "name": "stdout",
     "output_type": "stream",
     "text": [
      "[{'nom': 'Pikachu', 'type': 'Electric', 'color': 'Base'}]\n",
      "[{'nom': 'Pikachu', 'type': 'Electric', 'color': 'Base'}, {'nom': 'Greninja', 'type': 'Water', 'color': 'Shiny'}, {'nom': 'Mewtoo', 'type': 'Psychic', 'color': 'Base'}]\n"
     ]
    }
   ],
   "source": [
    "team = []\n",
    "pokemon = {\n",
    "    'nom': 'Pikachu',\n",
    "    'type': 'Electric',\n",
    "    'color': 'Base'\n",
    "}\n",
    "\n",
    "team.append(pokemon)\n",
    "print(team)\n",
    "\n",
    "pokemon = {\n",
    "    'nom': 'Greninja',\n",
    "    'type': 'Water',\n",
    "    'color': 'Shiny'\n",
    "}\n",
    "\n",
    "team.append(pokemon)\n",
    "\n",
    "pokemon = {\n",
    "    'nom': 'Mewtoo',\n",
    "    'type': 'Psychic',\n",
    "    'color': 'Base'\n",
    "}\n",
    "\n",
    "team.append(pokemon)\n",
    "\n",
    "print(team)"
   ]
  },
  {
   "cell_type": "code",
   "execution_count": 13,
   "metadata": {},
   "outputs": [
    {
     "name": "stdout",
     "output_type": "stream",
     "text": [
      "Pikachu, being a(n) Electric type has a Base color.\n",
      "Greninja, being a(n) Water type has a Shiny color.\n",
      "Mewtoo, being a(n) Psychic type has a Base color.\n"
     ]
    }
   ],
   "source": [
    "for e in team:\n",
    "    print(f'{e[\"nom\"]}, being a(n) {e[\"type\"]} type has a {e[\"color\"]} color.')"
   ]
  }
 ],
 "metadata": {
  "kernelspec": {
   "display_name": "Python 3",
   "language": "python",
   "name": "python3"
  },
  "language_info": {
   "codemirror_mode": {
    "name": "ipython",
    "version": 3
   },
   "file_extension": ".py",
   "mimetype": "text/x-python",
   "name": "python",
   "nbconvert_exporter": "python",
   "pygments_lexer": "ipython3",
   "version": "3.11.2"
  },
  "orig_nbformat": 4
 },
 "nbformat": 4,
 "nbformat_minor": 2
}
