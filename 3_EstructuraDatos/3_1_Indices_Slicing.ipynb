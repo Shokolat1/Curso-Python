{
 "cells": [
  {
   "attachments": {},
   "cell_type": "markdown",
   "metadata": {},
   "source": [
    "# <font color=\"skyblue\"> **3.1 Índices y Slicing** </font>\n",
    "\n",
    "### **_Índices_**\n",
    "\n",
    "#### **Los *índices* son números ordenados asociados a variables, con los cuales podemos identificar elementos basados en su posición.**\n",
    "\n",
    "* Siempre comienza el conteo a partir del 0 (asociado al primer elemento)\n",
    "* También es posible usar números negativos, con los cuales es posible ir en reversa. EJ: El \"-1\" es el último elemento, el \"-2\" es el penúltimo elemento, etc."
   ]
  },
  {
   "cell_type": "code",
   "execution_count": 2,
   "metadata": {},
   "outputs": [
    {
     "name": "stdout",
     "output_type": "stream",
     "text": [
      "A b d o\n",
      "g a b a S\n"
     ]
    }
   ],
   "source": [
    "txt = 'Abdo Sabag'\n",
    "print (txt[0], txt[1], txt[2], txt[3])\n",
    "print (txt[-1], txt[-2], txt[-3], txt[-4], txt[-5],)"
   ]
  },
  {
   "attachments": {},
   "cell_type": "markdown",
   "metadata": {},
   "source": [
    "### **_Slicing_**\n",
    "\n",
    "#### **Gracias a los *índices* podemos seleccionar secuencias de elementos definidos por la sintaxis _[indice1 : indice2 : paso(opcional)]_.**\n",
    "\n",
    "* En otras palabras, \"corta\" el valor de una variable, comenzando a partir del índice1, y terminando un valor antes del indice2.\n",
    "* El _paso_ hace referencia a la cantidad de índices que se estará recorriendo cada vez que vaya al siguiente índice.\n",
    "    * Por default es 1 (ir de uno en uno, recorriendo hacia la derecha)\n",
    "\n",
    "##### Cuando un rango de valores excluye alguno de sus límites, se dice que el rango es abierto\n",
    "* Abierto por la izq (se excluye _indice1_ del rango).\n",
    "    * Cuando esto pasa, se hace el corte desde el inicio de la secuencia de elementos hasta el _indice2_.\n",
    "* Abierto por la derecha (se excluye _indice2_ del rango).\n",
    "    * Cuando esto pasa, se hace el corte desde el _indice1_ hasta el final de la secuencia de elementos."
   ]
  },
  {
   "cell_type": "code",
   "execution_count": 8,
   "metadata": {},
   "outputs": [
    {
     "name": "stdout",
     "output_type": "stream",
     "text": [
      "do Sa\n",
      "Abdo Sa\n",
      "do Sabag\n",
      "Ad aa\n"
     ]
    }
   ],
   "source": [
    "print(txt[2:7])\n",
    "print(txt[:7])\n",
    "print(txt[2:])\n",
    "print(txt[::2])"
   ]
  }
 ],
 "metadata": {
  "kernelspec": {
   "display_name": "Python 3",
   "language": "python",
   "name": "python3"
  },
  "language_info": {
   "codemirror_mode": {
    "name": "ipython",
    "version": 3
   },
   "file_extension": ".py",
   "mimetype": "text/x-python",
   "name": "python",
   "nbconvert_exporter": "python",
   "pygments_lexer": "ipython3",
   "version": "3.11.2"
  },
  "orig_nbformat": 4
 },
 "nbformat": 4,
 "nbformat_minor": 2
}
