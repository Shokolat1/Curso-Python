{
 "cells": [
  {
   "attachments": {},
   "cell_type": "markdown",
   "metadata": {},
   "source": [
    "# <font color=\"skyblue\"> **3.3 Tuplas** </font>\n",
    "\n",
    "#### **Las *tuplas* son secuencias de valores. Los valores almacenados en ellas pueden ser de cualquier tipo y también están indexados.**\n",
    "\n",
    "#### **Se diferencían con listas debido a:**\n",
    "\n",
    "* Después de su creación, sus valores no son modificables (es inmutable)\n",
    "* Definimos sus valores entre ( ) en lugar de [ ]"
   ]
  },
  {
   "cell_type": "code",
   "execution_count": 2,
   "metadata": {},
   "outputs": [
    {
     "name": "stdout",
     "output_type": "stream",
     "text": [
      "('Ene', 'Feb', 'Mar')\n",
      "([1, 2, 3], 'a', 3.14, ('Ene', 'Feb', 'Mar'))\n",
      "3.14\n",
      "Feb\n"
     ]
    }
   ],
   "source": [
    "tupla = ('Ene', 'Feb', 'Mar')\n",
    "print(tupla)\n",
    "tuplaMulti = ([1, 2, 3], 'a', 3.14, tupla)\n",
    "print(tuplaMulti)\n",
    "print(tuplaMulti[-2])\n",
    "print(tuplaMulti[-1][1])"
   ]
  },
  {
   "cell_type": "code",
   "execution_count": 10,
   "metadata": {},
   "outputs": [
    {
     "name": "stdout",
     "output_type": "stream",
     "text": [
      "['Ene', 'Feb', 'Abr']\n"
     ]
    }
   ],
   "source": [
    "# Podemos convertir tuplas a listas para editar sus valores\n",
    "nuevaLista = list(tupla)\n",
    "nuevaLista[2] = 'Abr'\n",
    "print(nuevaLista)"
   ]
  },
  {
   "attachments": {},
   "cell_type": "markdown",
   "metadata": {},
   "source": [
    "## <font color='skyblue'> **_Métodos_** </font>\n",
    "\n",
    "#### **El método _index()_ devuelve la posición en la que se encuentra el valor especificado en la tupla. En caso de no encontrarlo, manda error.**"
   ]
  },
  {
   "cell_type": "code",
   "execution_count": 11,
   "metadata": {},
   "outputs": [
    {
     "data": {
      "text/plain": [
       "0"
      ]
     },
     "execution_count": 11,
     "metadata": {},
     "output_type": "execute_result"
    }
   ],
   "source": [
    "tupla.index('Ene')"
   ]
  },
  {
   "attachments": {},
   "cell_type": "markdown",
   "metadata": {},
   "source": [
    "#### **El método _count()_ devuelve la cantidad de veces que se encuentra el valor especificado en la tupla. En caso de no encontrarlo, manda 0.**"
   ]
  },
  {
   "cell_type": "code",
   "execution_count": 3,
   "metadata": {},
   "outputs": [
    {
     "data": {
      "text/plain": [
       "1"
      ]
     },
     "execution_count": 3,
     "metadata": {},
     "output_type": "execute_result"
    }
   ],
   "source": [
    "tuplaMulti.count(3.14)"
   ]
  }
 ],
 "metadata": {
  "kernelspec": {
   "display_name": "Python 3",
   "language": "python",
   "name": "python3"
  },
  "language_info": {
   "codemirror_mode": {
    "name": "ipython",
    "version": 3
   },
   "file_extension": ".py",
   "mimetype": "text/x-python",
   "name": "python",
   "nbconvert_exporter": "python",
   "pygments_lexer": "ipython3",
   "version": "3.11.2"
  },
  "orig_nbformat": 4
 },
 "nbformat": 4,
 "nbformat_minor": 2
}
