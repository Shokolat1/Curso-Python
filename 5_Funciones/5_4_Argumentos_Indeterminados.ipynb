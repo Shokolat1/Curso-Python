{
 "cells": [
  {
   "attachments": {},
   "cell_type": "markdown",
   "metadata": {},
   "source": [
    "# <font color=\"skyblue\"> **5.4 Argumentos Indeterminados** </font>\n",
    "\n",
    "#### **Los argumentos indet. representan la forma de pasar una colección de parámetros desconocidos a las funciones.**\n",
    "+ Funciona como el operador _spread (...)_ en JS\n",
    "+ Pasa el argumento _*argumentos_ y como parámetros podemos pasar los que queramos, del tipo que queramos\n",
    "+ Al pasarle 2 *, le pedimos trabajar con _key: value_"
   ]
  },
  {
   "cell_type": "code",
   "execution_count": 1,
   "metadata": {},
   "outputs": [
    {
     "name": "stdout",
     "output_type": "stream",
     "text": [
      "(5, 'Raúl', [0, 1, 2])\n"
     ]
    }
   ],
   "source": [
    "def argum(*args):\n",
    "    print(args)\n",
    "\n",
    "argum(5, \"Raúl\", [0, 1, 2])"
   ]
  },
  {
   "cell_type": "code",
   "execution_count": 2,
   "metadata": {},
   "outputs": [
    {
     "name": "stdout",
     "output_type": "stream",
     "text": [
      "3.14 <class 'float'>\n",
      "('Hola', 4, False) <class 'tuple'>\n",
      "Manuel <class 'str'>\n"
     ]
    }
   ],
   "source": [
    "def argum2(*args):\n",
    "    for i in args:\n",
    "        print(i, type(i))\n",
    "\n",
    "argum2(3.14, ('Hola', 4, False), \"Manuel\")"
   ]
  },
  {
   "cell_type": "code",
   "execution_count": 10,
   "metadata": {},
   "outputs": [
    {
     "name": "stdout",
     "output_type": "stream",
     "text": [
      "{'num': 3.14, 'tupla': ('Hola', 4, False), 'nom': 'Manuel'}\n",
      "num\n",
      "tupla\n",
      "nom\n",
      "num 3.14\n",
      "tupla ('Hola', 4, False)\n",
      "nom Manuel\n"
     ]
    }
   ],
   "source": [
    "def nombrar(**keyVal):\n",
    "    print(keyVal)\n",
    "\n",
    "def nombrar2(**keyVal):\n",
    "    for i in keyVal:\n",
    "        print(i)\n",
    "\n",
    "def nombrar3(**keyVal):\n",
    "    for i in keyVal:\n",
    "        print(i, keyVal[i])\n",
    "\n",
    "nombrar(num = 3.14, tupla = ('Hola', 4, False), nom = \"Manuel\")\n",
    "nombrar2(num = 3.14, tupla = ('Hola', 4, False), nom = \"Manuel\")\n",
    "nombrar3(num = 3.14, tupla = ('Hola', 4, False), nom = \"Manuel\")"
   ]
  },
  {
   "cell_type": "code",
   "execution_count": 11,
   "metadata": {},
   "outputs": [
    {
     "name": "stdout",
     "output_type": "stream",
     "text": [
      "El promedio indet. es 2\n",
      "Key: num; Valor: 3.14\n",
      "Key: tupla; Valor: ('Hola', 4, False)\n",
      "Key: nom; Valor: Manuel\n"
     ]
    }
   ],
   "source": [
    "# Al declarar ambos tipos de argumentos indet. tienes que poner los simples\n",
    "# primero, luego los key:value\n",
    "\n",
    "def superNominacion(*args, **keyVal):\n",
    "    sum = 0\n",
    "    for e in args:\n",
    "        sum += e\n",
    "    print(f'El promedio indet. es {round(sum / len(args))}')\n",
    "\n",
    "    for key in keyVal:\n",
    "        print(f'Key: {key}; Valor: {keyVal[key]}')\n",
    "\n",
    "# Toma como argumentos simples (*args) los primeros 4 indices porque no tienen\n",
    "# sintaxis key:value; los demás pertenecen a los argumentos **keyVal\n",
    "superNominacion(1, 2, 3, 4, num = 3.14, tupla = ('Hola', 4, False), nom = \"Manuel\")"
   ]
  }
 ],
 "metadata": {
  "kernelspec": {
   "display_name": "Python 3",
   "language": "python",
   "name": "python3"
  },
  "language_info": {
   "codemirror_mode": {
    "name": "ipython",
    "version": 3
   },
   "file_extension": ".py",
   "mimetype": "text/x-python",
   "name": "python",
   "nbconvert_exporter": "python",
   "pygments_lexer": "ipython3",
   "version": "3.11.2"
  },
  "orig_nbformat": 4
 },
 "nbformat": 4,
 "nbformat_minor": 2
}
