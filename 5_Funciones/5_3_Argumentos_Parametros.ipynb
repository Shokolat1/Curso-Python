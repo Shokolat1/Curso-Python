{
 "cells": [
  {
   "attachments": {},
   "cell_type": "markdown",
   "metadata": {},
   "source": [
    "# <font color=\"skyblue\"> **5.3 Argumentos y Parámetros** </font>\n",
    "\n",
    "#### **Parámetros son los valores que pasamos para usarse en una función.**\n",
    "#### **Argumentos son los tipos de datos que configuramos para su uso en una función.**\n",
    "+ Es decir, pasamos parámetros y la función los recibe como argumentos"
   ]
  },
  {
   "cell_type": "code",
   "execution_count": 1,
   "metadata": {},
   "outputs": [
    {
     "data": {
      "text/plain": [
       "4"
      ]
     },
     "execution_count": 1,
     "metadata": {},
     "output_type": "execute_result"
    }
   ],
   "source": [
    "# n1 y n2 son los argumentos\n",
    "def resta(n1, n2):\n",
    "    return n1 - n2\n",
    "\n",
    "# 7 y 3 son los parámetros\n",
    "resta(7,3)"
   ]
  },
  {
   "attachments": {},
   "cell_type": "markdown",
   "metadata": {},
   "source": [
    "#### **Podemos definir un valor predet. para nuestros parámetros**"
   ]
  },
  {
   "cell_type": "code",
   "execution_count": 6,
   "metadata": {},
   "outputs": [
    {
     "name": "stdout",
     "output_type": "stream",
     "text": [
      "8\n",
      "ERROR: Envía 2 nums a la función\n"
     ]
    }
   ],
   "source": [
    "def suma(a=None, b=None):\n",
    "    if(a == None or b == None):\n",
    "        print('ERROR: Envía 2 nums a la función')\n",
    "        return\n",
    "    else:\n",
    "        return print(a + b)\n",
    "\n",
    "suma(5,3)\n",
    "suma()"
   ]
  },
  {
   "attachments": {},
   "cell_type": "markdown",
   "metadata": {},
   "source": [
    "### <font color=\"skyblue\"> **Argumentos por Valor** </font>"
   ]
  },
  {
   "cell_type": "code",
   "execution_count": 7,
   "metadata": {},
   "outputs": [
    {
     "data": {
      "text/plain": [
       "(20, 10)"
      ]
     },
     "execution_count": 7,
     "metadata": {},
     "output_type": "execute_result"
    }
   ],
   "source": [
    "def duplica(num):\n",
    "    return num * 2\n",
    "\n",
    "n = 10\n",
    "duplica(n), n"
   ]
  },
  {
   "attachments": {},
   "cell_type": "markdown",
   "metadata": {},
   "source": [
    "### <font color=\"skyblue\"> **Argumentos por Referencia** </font>"
   ]
  },
  {
   "cell_type": "code",
   "execution_count": 12,
   "metadata": {},
   "outputs": [
    {
     "name": "stdout",
     "output_type": "stream",
     "text": [
      "[0, 2, 4, 6, 8] [0, 2, 4, 6, 8]\n",
      "[0, 1, 2, 3, 4, 5] [0, 2, 4, 6, 8, 10]\n"
     ]
    }
   ],
   "source": [
    "def duplica2(nums):\n",
    "    for i,j in enumerate(nums):\n",
    "        nums[i] *= 2\n",
    "    return nums\n",
    "\n",
    "notasA = list(range(5))\n",
    "notasB = duplica2(notasA)\n",
    "\n",
    "# La lista notasA no se pasa como copia en la función, sino que se pasa como\n",
    "# original y al momento de usarse también se modifican sus valores\n",
    "\n",
    "notasC = list(range(6))\n",
    "notasD = duplica2(notasC[:])\n",
    "\n",
    "# OJO: Para enviar una copia de una lista podemos hacer slicing de esta manera\n",
    "# nombreLista[:]\n",
    "\n",
    "print(notasA, notasB)\n",
    "print(notasC, notasD)"
   ]
  }
 ],
 "metadata": {
  "kernelspec": {
   "display_name": "Python 3",
   "language": "python",
   "name": "python3"
  },
  "language_info": {
   "codemirror_mode": {
    "name": "ipython",
    "version": 3
   },
   "file_extension": ".py",
   "mimetype": "text/x-python",
   "name": "python",
   "nbconvert_exporter": "python",
   "pygments_lexer": "ipython3",
   "version": "3.11.2"
  },
  "orig_nbformat": 4
 },
 "nbformat": 4,
 "nbformat_minor": 2
}
