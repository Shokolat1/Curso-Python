{
 "cells": [
  {
   "attachments": {},
   "cell_type": "markdown",
   "metadata": {},
   "source": [
    "# <font color=\"skyblue\"> **5.2 Retorno de Valores** </font>\n",
    "\n",
    "#### **Para retornar valores dentro de una función podemos usar la palabra reservada _return_.**"
   ]
  },
  {
   "cell_type": "code",
   "execution_count": 1,
   "metadata": {},
   "outputs": [
    {
     "data": {
      "text/plain": [
       "'Hola mundo!'"
      ]
     },
     "execution_count": 1,
     "metadata": {},
     "output_type": "execute_result"
    }
   ],
   "source": [
    "def funcion():\n",
    "    return 'Hola mundo!'\n",
    "\n",
    "funcion()"
   ]
  },
  {
   "cell_type": "code",
   "execution_count": 3,
   "metadata": {},
   "outputs": [
    {
     "name": "stdout",
     "output_type": "stream",
     "text": [
      "[1, 2, 3, 4, 5]\n",
      "[1, 2, 3]\n"
     ]
    }
   ],
   "source": [
    "def fun2():\n",
    "    return [1, 2, 3, 4, 5]\n",
    "\n",
    "print(fun2())\n",
    "print(fun2()[:3])"
   ]
  },
  {
   "cell_type": "code",
   "execution_count": 9,
   "metadata": {},
   "outputs": [
    {
     "name": "stdout",
     "output_type": "stream",
     "text": [
      "('Msg 1', 1993, [1, 2, 3]) <class 'tuple'>\n",
      "Msg 1\n",
      "1993\n",
      "[1, 2, 3]\n"
     ]
    }
   ],
   "source": [
    "def fun3():\n",
    "    return 'Msg 1', 1993, [1, 2, 3]\n",
    "\n",
    "print(fun3(), type(fun3()))\n",
    "\n",
    "txt, anio, lista = fun3()\n",
    "print(txt)\n",
    "print(anio)\n",
    "print(lista)"
   ]
  }
 ],
 "metadata": {
  "kernelspec": {
   "display_name": "Python 3",
   "language": "python",
   "name": "python3"
  },
  "language_info": {
   "codemirror_mode": {
    "name": "ipython",
    "version": 3
   },
   "file_extension": ".py",
   "mimetype": "text/x-python",
   "name": "python",
   "nbconvert_exporter": "python",
   "pygments_lexer": "ipython3",
   "version": "3.11.2"
  },
  "orig_nbformat": 4
 },
 "nbformat": 4,
 "nbformat_minor": 2
}
