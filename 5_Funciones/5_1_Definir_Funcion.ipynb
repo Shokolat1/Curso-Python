{
 "cells": [
  {
   "attachments": {},
   "cell_type": "markdown",
   "metadata": {},
   "source": [
    "# <font color=\"skyblue\"> **5.1 Definir Funciones** </font>\n",
    "\n",
    "#### **Las funciones en Python permiten reutilizar código. Podrían considerarse como una variable que encierra un conjunto de instruccciones. Al llamar a una función, lo que estamos llamando es la orden de ejecución de las instrucciones.**\n",
    "\n",
    "#### **Algunas características de funciones en Python son:**\n",
    "+ Se pueden crear en cualquier momento del programa\n",
    "+ Su palabra reservada es _def_\n",
    "+ Seguido de _def_ va el nombre de la función, y entre ( ) van los argumentos de entrada\n",
    "+ **NO** es obligatorio que la función devuelva un valor, aunque se puede usando la palabra reservada _return_\n",
    "+ Las variables declaradas dentro de ellas son de ámbito local\n",
    "+ Para declarar variables globales dentro de ellas, podemos usar la palabra reservada _global_\n",
    "    + No podemos declarar que la variable es global y asignarle un valor en la misma línea\n",
    "    + Una vez declarada como global una variable local, no se puede regresar a ser local\n",
    "    + **OJO:** Python siempre dará prioridad a los valores de variables locales por sobre las globales (considerará a ambas como variables diferentes aunque tengan el mismo nombre)"
   ]
  },
  {
   "cell_type": "code",
   "execution_count": 10,
   "metadata": {},
   "outputs": [
    {
     "name": "stdout",
     "output_type": "stream",
     "text": [
      "Hola!\n"
     ]
    }
   ],
   "source": [
    "def saludar():\n",
    "    print('Hola!')\n",
    "\n",
    "saludar()"
   ]
  },
  {
   "cell_type": "code",
   "execution_count": 11,
   "metadata": {},
   "outputs": [
    {
     "name": "stdout",
     "output_type": "stream",
     "text": [
      "4 * 0 = 0\n",
      "4 * 1 = 4\n",
      "4 * 2 = 8\n",
      "4 * 3 = 12\n",
      "4 * 4 = 16\n",
      "4 * 5 = 20\n",
      "4 * 6 = 24\n",
      "4 * 7 = 28\n",
      "4 * 8 = 32\n",
      "4 * 9 = 36\n",
      "4 * 10 = 40\n"
     ]
    }
   ],
   "source": [
    "def tablaMulti(num):\n",
    "    for i in range(11):\n",
    "        print(f'{num} * {i} = {num*i}')\n",
    "\n",
    "tablaMulti(4)"
   ]
  },
  {
   "attachments": {},
   "cell_type": "markdown",
   "metadata": {},
   "source": [
    "## <font color=\"skyblue\"> **Scope** </font>\n",
    "\n",
    "#### **En Python, cada nombre (identificadores de variables, funciones, objetos, etc) tiene su _scope_ (ámbito/alcance). El _scope_ define el área en donde puedes acceder al nombre.**"
   ]
  },
  {
   "cell_type": "code",
   "execution_count": 8,
   "metadata": {},
   "outputs": [
    {
     "ename": "NameError",
     "evalue": "name 'n' is not defined",
     "output_type": "error",
     "traceback": [
      "\u001b[1;31m---------------------------------------------------------------------------\u001b[0m",
      "\u001b[1;31mNameError\u001b[0m                                 Traceback (most recent call last)",
      "Cell \u001b[1;32mIn[8], line 6\u001b[0m\n\u001b[0;32m      2\u001b[0m     n \u001b[39m=\u001b[39m \u001b[39m10\u001b[39m\n\u001b[0;32m      4\u001b[0m prueba()\n\u001b[1;32m----> 6\u001b[0m \u001b[39mprint\u001b[39m(n)\n",
      "\u001b[1;31mNameError\u001b[0m: name 'n' is not defined"
     ]
    }
   ],
   "source": [
    "def prueba():\n",
    "    n = 10\n",
    "\n",
    "prueba()\n",
    "\n",
    "print(n)"
   ]
  },
  {
   "cell_type": "code",
   "execution_count": 9,
   "metadata": {},
   "outputs": [
    {
     "name": "stdout",
     "output_type": "stream",
     "text": [
      "10\n"
     ]
    }
   ],
   "source": [
    "q = 10\n",
    "\n",
    "def test2():\n",
    "    print(q)\n",
    "\n",
    "test2()"
   ]
  },
  {
   "cell_type": "code",
   "execution_count": 7,
   "metadata": {},
   "outputs": [
    {
     "name": "stdout",
     "output_type": "stream",
     "text": [
      "2\n"
     ]
    }
   ],
   "source": [
    "def test3():\n",
    "    global w\n",
    "    w = 2\n",
    "\n",
    "# test3()\n",
    "print(w)"
   ]
  },
  {
   "cell_type": "code",
   "execution_count": 12,
   "metadata": {},
   "outputs": [
    {
     "name": "stdout",
     "output_type": "stream",
     "text": [
      "23\n"
     ]
    }
   ],
   "source": [
    "def test4():\n",
    "    print(e)\n",
    "\n",
    "e = 23\n",
    "test4()"
   ]
  },
  {
   "cell_type": "code",
   "execution_count": 13,
   "metadata": {},
   "outputs": [
    {
     "name": "stdout",
     "output_type": "stream",
     "text": [
      "5\n",
      "5\n",
      "10\n"
     ]
    }
   ],
   "source": [
    "def test5():\n",
    "    o = 5\n",
    "    print(o)\n",
    "\n",
    "test5()\n",
    "\n",
    "o = 10\n",
    "\n",
    "test5()\n",
    "print(o)"
   ]
  }
 ],
 "metadata": {
  "kernelspec": {
   "display_name": "Python 3",
   "language": "python",
   "name": "python3"
  },
  "language_info": {
   "codemirror_mode": {
    "name": "ipython",
    "version": 3
   },
   "file_extension": ".py",
   "mimetype": "text/x-python",
   "name": "python",
   "nbconvert_exporter": "python",
   "pygments_lexer": "ipython3",
   "version": "3.11.2"
  },
  "orig_nbformat": 4
 },
 "nbformat": 4,
 "nbformat_minor": 2
}
