{
 "cells": [
  {
   "attachments": {},
   "cell_type": "markdown",
   "metadata": {},
   "source": [
    "# <font color=\"skyblue\"> **5.9 Ejercicios** </font>\n",
    "\n",
    "#### **1) Realiza una func llamada *area_rect()* que devuelve el área de un rectángulo usando base y altura. Calcula el área usando base=15 y altura=10**"
   ]
  },
  {
   "cell_type": "code",
   "execution_count": 1,
   "metadata": {},
   "outputs": [
    {
     "data": {
      "text/plain": [
       "150"
      ]
     },
     "execution_count": 1,
     "metadata": {},
     "output_type": "execute_result"
    }
   ],
   "source": [
    "def area_rect(b, a):\n",
    "    return b*a\n",
    "\n",
    "area_rect(15, 10)"
   ]
  },
  {
   "attachments": {},
   "cell_type": "markdown",
   "metadata": {},
   "source": [
    "#### **2) Haz una función llamada *area_circ()* que devuelva el área de un círculo al pasarle el radio. Calcula el área de un círculo de diámetro 5**"
   ]
  },
  {
   "cell_type": "code",
   "execution_count": 1,
   "metadata": {},
   "outputs": [
    {
     "data": {
      "text/plain": [
       "19.63"
      ]
     },
     "execution_count": 1,
     "metadata": {},
     "output_type": "execute_result"
    }
   ],
   "source": [
    "import math\n",
    "\n",
    "def area_circ(diam):\n",
    "    return math.pi * pow((diam/2), 2)\n",
    "\n",
    "round(area_circ(5), 2)"
   ]
  },
  {
   "attachments": {},
   "cell_type": "markdown",
   "metadata": {},
   "source": [
    "#### **3) Haz una función llamada *relacion()* que a partir de 2 nums cumpla lo siguiente:**\n",
    "\n",
    "+ Si el num1 es mayor que el segundo, devuelve 1\n",
    "+ Si el segundo es mayor, devuelve -1\n",
    "+ Si ambos son iguales, devuelve 0"
   ]
  },
  {
   "cell_type": "code",
   "execution_count": 4,
   "metadata": {},
   "outputs": [
    {
     "data": {
      "text/plain": [
       "0"
      ]
     },
     "execution_count": 4,
     "metadata": {},
     "output_type": "execute_result"
    }
   ],
   "source": [
    "def relacion(num1, num2):\n",
    "    if num1 > num2: return 1\n",
    "    elif num2 > num1: return -1\n",
    "    else: return 0\n",
    "\n",
    "relacion(2, 2)"
   ]
  },
  {
   "attachments": {},
   "cell_type": "markdown",
   "metadata": {},
   "source": [
    "#### **6) Haz una función _separar()_ que tome una lista de nums enteros y devuelva 2 listas ordenadas, donde la primera sea para pares y la otra para impares.**"
   ]
  },
  {
   "cell_type": "code",
   "execution_count": 2,
   "metadata": {},
   "outputs": [
    {
     "data": {
      "text/plain": [
       "([2, 4, 6], [1, 3, 5, 7])"
      ]
     },
     "execution_count": 2,
     "metadata": {},
     "output_type": "execute_result"
    }
   ],
   "source": [
    "def separar(lista):\n",
    "    l1 = []\n",
    "    l2 = []\n",
    "    for i in lista:\n",
    "        if i%2 == 0: l1.append(i)\n",
    "        else: l2.append(i)\n",
    "    l1.sort()\n",
    "    l2.sort()\n",
    "    return l1, l2\n",
    "\n",
    "li1, li2 = separar([1, 2, 3, 4, 5, 6, 7])\n",
    "li1, li2"
   ]
  }
 ],
 "metadata": {
  "kernelspec": {
   "display_name": "Python 3",
   "language": "python",
   "name": "python3"
  },
  "language_info": {
   "codemirror_mode": {
    "name": "ipython",
    "version": 3
   },
   "file_extension": ".py",
   "mimetype": "text/x-python",
   "name": "python",
   "nbconvert_exporter": "python",
   "pygments_lexer": "ipython3",
   "version": "3.11.2"
  },
  "orig_nbformat": 4
 },
 "nbformat": 4,
 "nbformat_minor": 2
}
