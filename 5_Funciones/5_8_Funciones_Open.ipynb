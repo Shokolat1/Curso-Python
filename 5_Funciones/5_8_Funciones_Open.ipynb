{
 "cells": [
  {
   "attachments": {},
   "cell_type": "markdown",
   "metadata": {},
   "source": [
    "# <font color=\"skyblue\"> **5.8 Funciones Open** </font>\n",
    "\n",
    "#### **Función de permite leer o escribir archivos externos especificando la URL donde se encuentra el archivo y el modo de acceso dependiendo de la acción que se quiere hacer. Algunas opciones son:**\n",
    "\n",
    "+ w: Acceso de escritura a un archivo nuevo\n",
    "+ r: Acceso de lectura a un archivo existente\n",
    "+ a: Acceso de escritura para agregar más elementos a archivos existentes\n",
    "    + Este último siempre mandará al cursor al final del archivo, después del último caracter"
   ]
  },
  {
   "cell_type": "code",
   "execution_count": 3,
   "metadata": {},
   "outputs": [],
   "source": [
    "# El 'with open' te permite abrir temporalmente el archivo\n",
    "with open(r'C:\\Users\\sonic\\Desktop\\TAREA, PROYECTOS, TALLER\\TOPICOS AVANZADOS DE TI\\5_Funciones\\archivo.txt', 'w', encoding='utf-8') as f:\n",
    "    # Abre el archivo y escribe sobre él\n",
    "    f.write('Escritura de Ficheros')\n",
    "    f.write('\\nOtra Línea ')\n",
    "    f.write('Estando en la misma línea')"
   ]
  },
  {
   "cell_type": "code",
   "execution_count": 4,
   "metadata": {},
   "outputs": [
    {
     "name": "stdout",
     "output_type": "stream",
     "text": [
      "Escritura de Ficheros\n",
      "Otra Línea Estando en la misma línea\n"
     ]
    }
   ],
   "source": [
    "with open(r'C:\\Users\\sonic\\Desktop\\TAREA, PROYECTOS, TALLER\\TOPICOS AVANZADOS DE TI\\5_Funciones\\archivo.txt', 'r', encoding='utf-8') as f:\n",
    "    print(f.read())"
   ]
  },
  {
   "cell_type": "code",
   "execution_count": 5,
   "metadata": {},
   "outputs": [
    {
     "name": "stdout",
     "output_type": "stream",
     "text": [
      "['Escritura de Ficheros\\n', 'Otra Línea Estando en la misma línea']\n"
     ]
    }
   ],
   "source": [
    "with open(r'C:\\Users\\sonic\\Desktop\\TAREA, PROYECTOS, TALLER\\TOPICOS AVANZADOS DE TI\\5_Funciones\\archivo.txt', 'r', encoding='utf-8') as f:\n",
    "    print(f.readlines())"
   ]
  },
  {
   "cell_type": "code",
   "execution_count": 7,
   "metadata": {},
   "outputs": [
    {
     "name": "stdout",
     "output_type": "stream",
     "text": [
      "Escritura de Ficheros\n",
      "\n",
      "Otra Línea Estando en la misma línea\n"
     ]
    }
   ],
   "source": [
    "with open(r'C:\\Users\\sonic\\Desktop\\TAREA, PROYECTOS, TALLER\\TOPICOS AVANZADOS DE TI\\5_Funciones\\archivo.txt', 'r', encoding='utf-8') as f:\n",
    "    for linea in f:\n",
    "        print(linea)"
   ]
  },
  {
   "cell_type": "code",
   "execution_count": 9,
   "metadata": {},
   "outputs": [
    {
     "name": "stdout",
     "output_type": "stream",
     "text": [
      "['Escritura', 'de', 'Ficheros'] <class 'list'>\n",
      "['Otra', 'Línea', 'Estando', 'en', 'la', 'misma', 'línea'] <class 'list'>\n"
     ]
    }
   ],
   "source": [
    "with open(r'C:\\Users\\sonic\\Desktop\\TAREA, PROYECTOS, TALLER\\TOPICOS AVANZADOS DE TI\\5_Funciones\\archivo.txt', 'r', encoding='utf-8') as f:\n",
    "    for linea in f:\n",
    "        palabras = linea.split()\n",
    "        print(palabras, type(palabras))"
   ]
  },
  {
   "cell_type": "code",
   "execution_count": 13,
   "metadata": {},
   "outputs": [
    {
     "name": "stdout",
     "output_type": "stream",
     "text": [
      "['Escritura', 'de', 'Ficheros']\n",
      "['Otra', 'Línea', 'Estando', 'en', 'la', 'misma', 'línea']\n",
      "['Escritura', 'de', 'Ficheros', 'Otra', 'Línea', 'Estando', 'en', 'la', 'misma', 'línea']\n"
     ]
    }
   ],
   "source": [
    "palabras2 = list()\n",
    "\n",
    "with open(r'C:\\Users\\sonic\\Desktop\\TAREA, PROYECTOS, TALLER\\TOPICOS AVANZADOS DE TI\\5_Funciones\\archivo.txt', 'r', encoding='utf-8') as f:\n",
    "    for linea in f:\n",
    "        t1 = linea.split()\n",
    "        print(t1)\n",
    "        for t in t1:\n",
    "            palabras2.append(t)\n",
    "    print(palabras2)"
   ]
  }
 ],
 "metadata": {
  "kernelspec": {
   "display_name": "Python 3",
   "language": "python",
   "name": "python3"
  },
  "language_info": {
   "codemirror_mode": {
    "name": "ipython",
    "version": 3
   },
   "file_extension": ".py",
   "mimetype": "text/x-python",
   "name": "python",
   "nbconvert_exporter": "python",
   "pygments_lexer": "ipython3",
   "version": "3.11.2"
  },
  "orig_nbformat": 4
 },
 "nbformat": 4,
 "nbformat_minor": 2
}
