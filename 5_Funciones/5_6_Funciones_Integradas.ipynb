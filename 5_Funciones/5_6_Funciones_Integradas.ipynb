{
 "cells": [
  {
   "attachments": {},
   "cell_type": "markdown",
   "metadata": {},
   "source": [
    "# <font color=\"skyblue\"> **5.6 Funciones Integradas (Built-In)** </font>\n",
    "\n",
    "## <font color=\"skyblue\"> **Numéricas** </font>"
   ]
  },
  {
   "cell_type": "code",
   "execution_count": 1,
   "metadata": {},
   "outputs": [
    {
     "data": {
      "text/plain": [
       "(8, int)"
      ]
     },
     "execution_count": 1,
     "metadata": {},
     "output_type": "execute_result"
    }
   ],
   "source": [
    "n = int(\"8\")\n",
    "n, type(n)"
   ]
  },
  {
   "cell_type": "code",
   "execution_count": 2,
   "metadata": {},
   "outputs": [
    {
     "data": {
      "text/plain": [
       "(3.1416, float)"
      ]
     },
     "execution_count": 2,
     "metadata": {},
     "output_type": "execute_result"
    }
   ],
   "source": [
    "f = float(\"3.1416\")\n",
    "f, type(f)"
   ]
  },
  {
   "cell_type": "code",
   "execution_count": 7,
   "metadata": {},
   "outputs": [
    {
     "name": "stdout",
     "output_type": "stream",
     "text": [
      "0b1100\n",
      "0xc\n",
      "19\n",
      "15\n"
     ]
    }
   ],
   "source": [
    "# Num Binario\n",
    "print(bin(12))\n",
    "\n",
    "# Num Hexadecimal\n",
    "print(hex(12))\n",
    "\n",
    "# Convertir a num entero un binario (convierte el string \n",
    "# tomando en cuenta solo el formato 2, siendo binario con 1 y 0)\n",
    "print(int('0b10011', 2))\n",
    "\n",
    "# Convertir a num entero un hexadecimal (convierte el string \n",
    "# tomando en cuenta el formato 16 hexadecimal)\n",
    "print(int('0xf', 16))"
   ]
  },
  {
   "cell_type": "code",
   "execution_count": 1,
   "metadata": {},
   "outputs": [
    {
     "data": {
      "text/plain": [
       "13"
      ]
     },
     "execution_count": 1,
     "metadata": {},
     "output_type": "execute_result"
    }
   ],
   "source": [
    "# Regresa valor absoluto de un num\n",
    "abs(-13)"
   ]
  },
  {
   "cell_type": "code",
   "execution_count": 9,
   "metadata": {},
   "outputs": [
    {
     "name": "stdout",
     "output_type": "stream",
     "text": [
      "3\n",
      "3.1416\n"
     ]
    }
   ],
   "source": [
    "# Redondea al entero más cercano\n",
    "print(round(3.1416))\n",
    "\n",
    "# Redondea con 4 decimales\n",
    "print(round(3.141592658, 4))"
   ]
  },
  {
   "cell_type": "code",
   "execution_count": 10,
   "metadata": {},
   "outputs": [
    {
     "data": {
      "text/plain": [
       "125"
      ]
     },
     "execution_count": 10,
     "metadata": {},
     "output_type": "execute_result"
    }
   ],
   "source": [
    "# Potenciación; dame 5^3\n",
    "pow(5, 3)"
   ]
  },
  {
   "attachments": {},
   "cell_type": "markdown",
   "metadata": {},
   "source": [
    "## <font color=\"skyblue\"> **Otras Funciones** </font>"
   ]
  },
  {
   "cell_type": "code",
   "execution_count": 12,
   "metadata": {},
   "outputs": [
    {
     "name": "stdout",
     "output_type": "stream",
     "text": [
      "['Usa', 'esto', 'para', 'separar', 'cadenas']\n",
      "['Us', ' esto p', 'r', ' sep', 'r', 'r c', 'den', 's']\n"
     ]
    }
   ],
   "source": [
    "# Separa por espacios (por default) y lo convierte a una lista\n",
    "print('Usa esto para separar cadenas'.split())\n",
    "\n",
    "# Separa en base a un caracter, SIN incliur dicho caracter\n",
    "print('Usa esto para separar cadenas'.split('a'))"
   ]
  },
  {
   "cell_type": "code",
   "execution_count": 15,
   "metadata": {},
   "outputs": [
    {
     "name": "stdout",
     "output_type": "stream",
     "text": [
      "CONVIERTE A MAYÚSCULAS\n",
      "convierte a minusculas\n",
      "Esto Es Un Titulo\n",
      "Esto es una oración\n"
     ]
    }
   ],
   "source": [
    "print('convierte a mayúsculas'.upper())\n",
    "print('CONVIERTE A MINUSCULAS'.lower())\n",
    "print('Esto es un titulo'.title())\n",
    "print('EsTo Es uNa oRaCiÓn'.capitalize())"
   ]
  },
  {
   "cell_type": "code",
   "execution_count": 16,
   "metadata": {},
   "outputs": [
    {
     "data": {
      "text/plain": [
       "(('A', 11), ('B', 12), ('C', 13), ('D', 14))"
      ]
     },
     "execution_count": 16,
     "metadata": {},
     "output_type": "execute_result"
    }
   ],
   "source": [
    "# Usado para crear una tupla de 2 dimensiones de 2 listas\n",
    "# Toma los elementos por índice\n",
    "a, b, c, d = zip(['A', 'B', 'C', 'D'], [11, 12, 13, 14])\n",
    "a, b, c, d  "
   ]
  },
  {
   "cell_type": "code",
   "execution_count": 17,
   "metadata": {},
   "outputs": [
    {
     "data": {
      "text/plain": [
       "{'A': 11, 'B': 12, 'C': 13, 'D': 14}"
      ]
     },
     "execution_count": 17,
     "metadata": {},
     "output_type": "execute_result"
    }
   ],
   "source": [
    "# Crea un diccionario key:value con un zip\n",
    "dict(zip(['A', 'B', 'C', 'D'], [11, 12, 13, 14]))"
   ]
  }
 ],
 "metadata": {
  "kernelspec": {
   "display_name": "Python 3",
   "language": "python",
   "name": "python3"
  },
  "language_info": {
   "codemirror_mode": {
    "name": "ipython",
    "version": 3
   },
   "file_extension": ".py",
   "mimetype": "text/x-python",
   "name": "python",
   "nbconvert_exporter": "python",
   "pygments_lexer": "ipython3",
   "version": "3.11.2"
  },
  "orig_nbformat": 4
 },
 "nbformat": 4,
 "nbformat_minor": 2
}
