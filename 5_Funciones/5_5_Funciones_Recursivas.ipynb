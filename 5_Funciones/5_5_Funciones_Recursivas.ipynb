{
 "cells": [
  {
   "attachments": {},
   "cell_type": "markdown",
   "metadata": {},
   "source": [
    "# <font color=\"skyblue\"> **5.5 Funciones Recursivas** </font>\n",
    "\n",
    "#### **Es un tipo de función que se usará a sí misma en el mismo cuerpo de su definición.**"
   ]
  },
  {
   "cell_type": "code",
   "execution_count": 5,
   "metadata": {},
   "outputs": [
    {
     "name": "stdout",
     "output_type": "stream",
     "text": [
      "4\n",
      "3\n",
      "2\n",
      "1\n",
      "0 BOOM!!!\n",
      "Fin de la func 0\n",
      "Fin de la func 1\n",
      "Fin de la func 2\n",
      "Fin de la func 3\n",
      "Fin de la func 4\n"
     ]
    }
   ],
   "source": [
    "def cuentaAtras(num):\n",
    "    num -= 1\n",
    "    if(num > 0):\n",
    "        print(num)\n",
    "        cuentaAtras(num)\n",
    "    else:\n",
    "        print(num, \"BOOM!!!\")\n",
    "    \n",
    "    print(\"Fin de la func\", num)\n",
    "\n",
    "cuentaAtras(5)"
   ]
  },
  {
   "cell_type": "code",
   "execution_count": 6,
   "metadata": {},
   "outputs": [
    {
     "name": "stdout",
     "output_type": "stream",
     "text": [
      "Valor inicial: 5\n",
      "Valor inicial: 4\n",
      "Valor inicial: 3\n",
      "Valor inicial: 2\n",
      "Valor inicial: 1\n",
      "Valor final: 1\n",
      "Valor final: 2\n",
      "Valor final: 6\n",
      "Valor final: 24\n",
      "Valor final: 120\n"
     ]
    },
    {
     "data": {
      "text/plain": [
       "120"
      ]
     },
     "execution_count": 6,
     "metadata": {},
     "output_type": "execute_result"
    }
   ],
   "source": [
    "\n",
    "def factorial(num):\n",
    "    print(f'Valor inicial: {num}')\n",
    "    if num > 1:\n",
    "        num *= factorial(num - 1)\n",
    "\n",
    "    print(f'Valor final: {num}')\n",
    "    return num\n",
    "    \n",
    "factorial(5)"
   ]
  }
 ],
 "metadata": {
  "kernelspec": {
   "display_name": "Python 3",
   "language": "python",
   "name": "python3"
  },
  "language_info": {
   "codemirror_mode": {
    "name": "ipython",
    "version": 3
   },
   "file_extension": ".py",
   "mimetype": "text/x-python",
   "name": "python",
   "nbconvert_exporter": "python",
   "pygments_lexer": "ipython3",
   "version": "3.11.2"
  },
  "orig_nbformat": 4
 },
 "nbformat": 4,
 "nbformat_minor": 2
}
