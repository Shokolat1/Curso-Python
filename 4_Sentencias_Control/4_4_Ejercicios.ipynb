{
 "cells": [
  {
   "attachments": {},
   "cell_type": "markdown",
   "metadata": {},
   "source": [
    "#### **1) Haz programa que lea 2 nums capturados y permita elegir entre 4 opciones:**\n",
    "\n",
    "+ Mostrar la suma de ellos\n",
    "+ Mostrar la resta de ellos (primero menos segundo)\n",
    "+ Mostrar la multiplicación de ambos nums\n",
    "+ Salir del programa\n",
    "\n",
    "###### OJO: Si ingresa info inválida, el programa avisará del error"
   ]
  },
  {
   "cell_type": "code",
   "execution_count": null,
   "metadata": {},
   "outputs": [],
   "source": [
    "bandera = True\n",
    "\n",
    "while bandera == True:\n",
    "    print(\"\"\"Bienvenid@! ¿Qué quieres hacer?\n",
    "    1)Sumar 2 nums\n",
    "    2)Restar 2 nums\n",
    "    3)Multiplicar 2 nums\n",
    "    4)Salir\"\"\")\n",
    "\n",
    "    opt = input(\"(ELIGE ENTRE LOS NÚMEROS 1-4 PARA SELECCIONAR LA OPCIÓN DESEADA)\")\n",
    "\n",
    "    if opt == '1':\n",
    "        num1 = int(input('Dame el primer num'))\n",
    "        num2 = int(input('Dame el segundo num'))\n",
    "        res = num1+num2\n",
    "        print(f\"El resultado de la suma es {res}\")\n",
    "        print(\"\")\n",
    "    elif opt == '2':\n",
    "        num1 = int(input('Dame el primer num'))\n",
    "        num2 = int(input('Dame el segundo num'))\n",
    "        res = num1-num2\n",
    "        print(f\"El resultado de la resta es {res}\")\n",
    "        print(\"\")\n",
    "    elif opt == '3':\n",
    "        num1 = int(input('Dame el primer num'))\n",
    "        num2 = int(input('Dame el segundo num'))\n",
    "        res = num1*num2\n",
    "        print(f\"El resultado de la multiplicación es {res}\")\n",
    "        print(\"\")\n",
    "    elif opt == '4':\n",
    "        print(\"Nos vemos!\")\n",
    "        bandera = False\n",
    "    else:\n",
    "        print(\"Opción inválida, favor de ingresar otra opción\")\n",
    "        print(\"\")"
   ]
  },
  {
   "attachments": {},
   "cell_type": "markdown",
   "metadata": {},
   "source": [
    "#### **2) Dada una lista de _strings_ haga un programa que:**\n",
    "\n",
    "+ Detecte el num de strings que tienen una longitud de 2 o más caracteres, y cuyo primer y último caracter son iguales\n",
    "+ Formar una nueva lista con estos strings"
   ]
  },
  {
   "cell_type": "code",
   "execution_count": null,
   "metadata": {},
   "outputs": [],
   "source": [
    "lista = ['avila', 'cafe', 'este', 'narracion', 'buda', 'extra', 'salida']\n",
    "lista2 = []\n",
    "# suma = 0\n",
    "\n",
    "# for i in lista:\n",
    "#     for elem in i:\n",
    "#         suma += 1\n",
    "#     if(suma >= 2 and i[0] == i[-1]):\n",
    "#         lista2.append(i)\n",
    "#     suma = 0\n",
    "# print(lista2)\n",
    "\n",
    "for i in lista:\n",
    "    if(len(i) >= 2 and i[0] == i[-1]):\n",
    "        lista2.append(i)\n",
    "print(lista2)"
   ]
  },
  {
   "attachments": {},
   "cell_type": "markdown",
   "metadata": {},
   "source": [
    "#### **3) Haga un programa que pida un num impar. Si el usuario no ingresa un num impar, debe repetirse hasta que ingrese un num válido:**\n",
    "\n",
    "+ Se debe mostrar la lista de nums pares antes de elegir el impar"
   ]
  },
  {
   "cell_type": "code",
   "execution_count": 1,
   "metadata": {},
   "outputs": [
    {
     "name": "stdout",
     "output_type": "stream",
     "text": [
      "Este no es impar, dame otro\n",
      "Este no es impar, dame otro\n",
      "Este no es impar, dame otro\n",
      "Este no es impar, dame otro\n",
      "Gracias! La lista de nums que pusiste antes de este fue: ['2', '4', '6', '4']\n"
     ]
    }
   ],
   "source": [
    "bandera = True\n",
    "lista = []\n",
    "\n",
    "while bandera == True:\n",
    "    num = input('Dame un num impar')\n",
    "    if int(num) % 2 == 0:\n",
    "        print('Este no es impar, dame otro')\n",
    "        lista.append(num)\n",
    "    else:\n",
    "        print(f\"Gracias! La lista de nums que pusiste antes de este fue: {lista}\")\n",
    "        bandera = False"
   ]
  },
  {
   "attachments": {},
   "cell_type": "markdown",
   "metadata": {},
   "source": [
    "### **4) Haga un programa que sume todos los nums pares del 0-100 usando las funciones sum() y range()**"
   ]
  },
  {
   "cell_type": "code",
   "execution_count": 4,
   "metadata": {},
   "outputs": [
    {
     "name": "stdout",
     "output_type": "stream",
     "text": [
      "2550\n"
     ]
    }
   ],
   "source": [
    "nums = sum(range(0,101,2))\n",
    "print(nums)"
   ]
  },
  {
   "attachments": {},
   "cell_type": "markdown",
   "metadata": {},
   "source": [
    "### **5) Haga un programa que pregunte al usuario la cantidad de nums que quiere, y con ellos hacer media aritmética**"
   ]
  },
  {
   "cell_type": "code",
   "execution_count": 3,
   "metadata": {},
   "outputs": [
    {
     "name": "stdout",
     "output_type": "stream",
     "text": [
      "Tu promedio es: 2.0\n"
     ]
    }
   ],
   "source": [
    "promedio = 0\n",
    "\n",
    "cant = int(input('Cuántos nums quieres para hacer un promedio?'))\n",
    "\n",
    "for i in range(cant):\n",
    "    n = int(input(f\"Dame el num {i+1}\"))\n",
    "    promedio += n\n",
    "\n",
    "print(f\"Tu promedio es: {promedio/cant}\")"
   ]
  },
  {
   "attachments": {},
   "cell_type": "markdown",
   "metadata": {},
   "source": [
    "### **6) Haga un programa que pida al usuario un num entero entre 0 y 9, y que mientras este num sea correcto se repita el proceso. Luego debe notificar si se encuentra dentro de la lista de nums: [0, 1, 3, 5, 8].**"
   ]
  },
  {
   "cell_type": "code",
   "execution_count": 7,
   "metadata": {},
   "outputs": [
    {
     "name": "stdout",
     "output_type": "stream",
     "text": [
      "El num elegido fue 2\n"
     ]
    }
   ],
   "source": [
    "# Nota: el comando (i IN lis) evalúa si existe el elemento \"i\" dentro de la\n",
    "# lista \"lis\"\n",
    "\n",
    "compara = False\n",
    "l1 = [0, 1, 3, 5, 8]\n",
    "n1 = 0\n",
    "\n",
    "while(compara == False):\n",
    "    n1 = int(input('Dame un num entre el 0 y el 9'))\n",
    "    compara = -1 < n1 < 10\n",
    "    if(compara == False):\n",
    "        print('Num fuera del rango, intente de nuevo\\n')\n",
    "\n",
    "print(f\"El num elegido fue {n1}\")\n",
    "if(n1 in l1):\n",
    "    print(f\"También se encuentra dentro de la lista {l1}\")"
   ]
  },
  {
   "attachments": {},
   "cell_type": "markdown",
   "metadata": {},
   "source": [
    "### **7) Usando la función range() y conversión a listas, genere las siguientes listas dinámicamente:**\n",
    "+ Todos los nums del 0 - 10\n",
    "+ Todos los nums del -10 - 0\n",
    "+ Todos los nums pares del 0 - 20\n",
    "+ Todos los nums impares del -20 al 0\n",
    "+ Todos los nums múltiplos de 5 del 0 - 50"
   ]
  },
  {
   "cell_type": "code",
   "execution_count": 1,
   "metadata": {},
   "outputs": [
    {
     "name": "stdout",
     "output_type": "stream",
     "text": [
      "[0, 1, 2, 3, 4, 5, 6, 7, 8, 9, 10]\n",
      "[-10, -9, -8, -7, -6, -5, -4, -3, -2, -1, 0]\n",
      "[0, 2, 4, 6, 8, 10, 12, 14, 16, 18, 20]\n",
      "[-19, -17, -15, -13, -11, -9, -7, -5, -3, -1]\n",
      "[0, 5, 10, 15, 20, 25, 30, 35, 40, 45, 50]\n"
     ]
    }
   ],
   "source": [
    "print(list(range(0,11)))\n",
    "print(list(range(-10,1)))\n",
    "print(list(range(0,21,2)))\n",
    "print(list(range(-19,1,2)))\n",
    "print(list(range(0,51,5)))"
   ]
  },
  {
   "attachments": {},
   "cell_type": "markdown",
   "metadata": {},
   "source": [
    "### **8) Dadas 2 listas, se debe generar una tercer lista con todos los elementos que se repitan en ellas, pero no se debe repetir ningún elemento en la nueva lista.**"
   ]
  },
  {
   "cell_type": "code",
   "execution_count": 12,
   "metadata": {},
   "outputs": [
    {
     "name": "stdout",
     "output_type": "stream",
     "text": [
      "['i', ' ', 'a', 'm', 'g', 'o']\n"
     ]
    }
   ],
   "source": [
    "lista1 = [\"M\", \"i\", \" \", \"a\", \"m\", \"i\", \"g\", \"o\",\" \", \"G\", \"a\", \"l\", \"i\", \"l\", \"e\", \"o\"]\n",
    "lista2 = [\"T\", \"u\", \" \", \"a\", \"m\", \"i\", \"g\", \"u\", \"i\", \"t\", \"o\"]\n",
    "lista3 = []\n",
    "\n",
    "# VER ELEMENTOS REPETIDOS LISTA POR LISTA ----------\n",
    "# lista1.sort()\n",
    "# lista2.sort()\n",
    "\n",
    "# for i in range(1,len(lista1)):\n",
    "#     if lista1[i-1] == lista1[i]:\n",
    "#         lista3.append(lista1[i-1])\n",
    "\n",
    "# for a in range(1, len(lista2)):\n",
    "#     if lista2[a-1] == lista2[a]:\n",
    "#         lista3.append(lista2[a-1])\n",
    "\n",
    "# lista3 = list(set(lista3))\n",
    "\n",
    "# VER ELEMENTOS REPETIDOS ENTRE LISTA 1 Y 2\n",
    "for i in lista1:\n",
    "    if i in lista2 and i not in lista3:\n",
    "        lista3.append(i)\n",
    "\n",
    "print(lista3)"
   ]
  }
 ],
 "metadata": {
  "kernelspec": {
   "display_name": "Python 3",
   "language": "python",
   "name": "python3"
  },
  "language_info": {
   "codemirror_mode": {
    "name": "ipython",
    "version": 3
   },
   "file_extension": ".py",
   "mimetype": "text/x-python",
   "name": "python",
   "nbconvert_exporter": "python",
   "pygments_lexer": "ipython3",
   "version": "3.11.2"
  },
  "orig_nbformat": 4
 },
 "nbformat": 4,
 "nbformat_minor": 2
}
