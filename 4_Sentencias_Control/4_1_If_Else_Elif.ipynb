{
 "cells": [
  {
   "attachments": {},
   "cell_type": "markdown",
   "metadata": {},
   "source": [
    "# <font color=\"skyblue\"> **4.1 If, Else, Elif: Sentencias Condicionales** </font>\n",
    "\n",
    "#### **En Python existen sentencias condicionales _if, else, elif (else if)_, con las cuales podemos dividir el flujo de un programa en caminos distintos. Para esto, definimos un bloque de instrucciones, el cual se ejecutará en caso de que la condición previa se cumpla.**"
   ]
  },
  {
   "cell_type": "code",
   "execution_count": 6,
   "metadata": {},
   "outputs": [
    {
     "name": "stdout",
     "output_type": "stream",
     "text": [
      "Hola!\n",
      "x = 12\n"
     ]
    }
   ],
   "source": [
    "if(True):\n",
    "    print('Hola!')\n",
    "\n",
    "if(False):\n",
    "    print('Mundo')\n",
    "\n",
    "x = 12\n",
    "if x == 2:\n",
    "    print('x = 2')\n",
    "if x == 12:\n",
    "    print('x = 12')"
   ]
  },
  {
   "attachments": {},
   "cell_type": "markdown",
   "metadata": {},
   "source": [
    "#### **Podemos escribir if's anidados (respetando indentación)...**"
   ]
  },
  {
   "cell_type": "code",
   "execution_count": 7,
   "metadata": {},
   "outputs": [
    {
     "name": "stdout",
     "output_type": "stream",
     "text": [
      "a vale 2\n",
      "b vale 3\n"
     ]
    }
   ],
   "source": [
    "a = 2\n",
    "b = 3\n",
    "\n",
    "if a == 2:\n",
    "    print(f'a vale {a}')\n",
    "    if b == 3:\n",
    "        print(f'b vale {b}')"
   ]
  },
  {
   "attachments": {},
   "cell_type": "markdown",
   "metadata": {},
   "source": [
    "#### **También podemos incluir operadores lógicos dentro de las sentencias para aumentar eficiencia y legibilidad.**"
   ]
  },
  {
   "cell_type": "code",
   "execution_count": 8,
   "metadata": {},
   "outputs": [
    {
     "name": "stdout",
     "output_type": "stream",
     "text": [
      "a vale 2 y b vale 3\n"
     ]
    }
   ],
   "source": [
    "if a == 2 and b == 3:\n",
    "    print(f'a vale {a} y b vale {b}')"
   ]
  },
  {
   "attachments": {},
   "cell_type": "markdown",
   "metadata": {},
   "source": [
    "### **_<font color='skyblue'>Else y Elif</font>_**\n",
    "\n",
    "#### **Else se encadena al final del bloque para abrir una nueva lista de instrucciones.**\n",
    "\n",
    "#### **Elif establece una nueva condición que se encadena a un _if_ o a otro _elif_ cuya condición resultó en False. Con esto podemos establecer varias condiciones para lidiar con múltiples posibles entradas que el programa puede recibir.**"
   ]
  },
  {
   "cell_type": "code",
   "execution_count": 12,
   "metadata": {},
   "outputs": [
    {
     "name": "stdout",
     "output_type": "stream",
     "text": [
      "z es par\n",
      "Y es mayor a 5\n"
     ]
    }
   ],
   "source": [
    "z = 12\n",
    "\n",
    "if z % 2 == 0:\n",
    "    print(f'z es par')\n",
    "    if z < 5:\n",
    "        print('También es menor a 5')\n",
    "    else:\n",
    "        print('Y es mayor a 5')\n",
    "else:\n",
    "    print(f'z es impar')"
   ]
  },
  {
   "cell_type": "code",
   "execution_count": 17,
   "metadata": {},
   "outputs": [
    {
     "name": "stdout",
     "output_type": "stream",
     "text": [
      "No sé qué es eso, intenta de nuevo porfas...\n"
     ]
    }
   ],
   "source": [
    "# Respuestas Dinámicas\n",
    "\n",
    "txt = input('Qué quieres hacer? Saludar o Salir?').upper()\n",
    "\n",
    "if txt == 'SALUDAR':\n",
    "    print('Hola!')\n",
    "elif txt == 'SALIR':\n",
    "    print('Nos vemos!')\n",
    "else:\n",
    "    print('No sé qué es eso, intenta de nuevo porfas...')"
   ]
  }
 ],
 "metadata": {
  "kernelspec": {
   "display_name": "Python 3",
   "language": "python",
   "name": "python3"
  },
  "language_info": {
   "codemirror_mode": {
    "name": "ipython",
    "version": 3
   },
   "file_extension": ".py",
   "mimetype": "text/x-python",
   "name": "python",
   "nbconvert_exporter": "python",
   "pygments_lexer": "ipython3",
   "version": "3.11.2"
  },
  "orig_nbformat": 4
 },
 "nbformat": 4,
 "nbformat_minor": 2
}
