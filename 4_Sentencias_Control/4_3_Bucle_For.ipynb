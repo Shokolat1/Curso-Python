{
 "cells": [
  {
   "attachments": {},
   "cell_type": "markdown",
   "metadata": {},
   "source": [
    "# <font color=\"skyblue\"> **4.3 Bucles For** </font>\n",
    "\n",
    "#### **Este tipo de bucle nos ayuda a repetir un bloque de código un número determinado de veces (se rehitera tantas veces como elementos tenga el obj iterable que recorre el bucle).**\n",
    "\n",
    "#### **Los iterables pueden ser listas, cadenas de txt, etc.**"
   ]
  },
  {
   "cell_type": "code",
   "execution_count": 1,
   "metadata": {},
   "outputs": [],
   "source": [
    "nums = [1, 2, 3, 4, 5]\n",
    "ID = 0"
   ]
  },
  {
   "cell_type": "code",
   "execution_count": 2,
   "metadata": {},
   "outputs": [
    {
     "name": "stdout",
     "output_type": "stream",
     "text": [
      "Bucle While:\n",
      "1\n",
      "2\n",
      "3\n",
      "4\n",
      "5\n"
     ]
    }
   ],
   "source": [
    "print('Bucle While:')\n",
    "\n",
    "while ID < len(nums):\n",
    "    print(nums[ID])\n",
    "    ID+=1"
   ]
  },
  {
   "cell_type": "code",
   "execution_count": 3,
   "metadata": {},
   "outputs": [
    {
     "name": "stdout",
     "output_type": "stream",
     "text": [
      "Bucle For:\n",
      "1\n",
      "2\n",
      "3\n",
      "4\n",
      "5\n"
     ]
    }
   ],
   "source": [
    "print('Bucle For:')\n",
    "\n",
    "for element in nums:\n",
    "    print(element)"
   ]
  },
  {
   "attachments": {},
   "cell_type": "markdown",
   "metadata": {},
   "source": [
    "#### **Ya que las listas son mutables, podemos modificar el valor en cada íncice usando un bucle.**"
   ]
  },
  {
   "cell_type": "code",
   "execution_count": 1,
   "metadata": {},
   "outputs": [
    {
     "name": "stdout",
     "output_type": "stream",
     "text": [
      "[0, 10, 20, 30]\n"
     ]
    }
   ],
   "source": [
    "x = 0\n",
    "nums = [0, 1, 2, 3]\n",
    "\n",
    "# Por cada elemento (solo tomando en cuenta la cantidad de elementos que hay,\n",
    "# multiplica por 10 el elemento en el indice que te digo y guárdalo)\n",
    "for e in nums:\n",
    "    nums[x] *= 10\n",
    "    x += 1\n",
    "\n",
    "print(nums)"
   ]
  },
  {
   "attachments": {},
   "cell_type": "markdown",
   "metadata": {},
   "source": [
    "### **_<font color='skyblue'>enumerate()</font>_**\n",
    "\n",
    "#### **Permite regresar lecturas secuenciales de obj con _key_ y _value_. Esta función devuelve el elemento y su índice.**"
   ]
  },
  {
   "cell_type": "code",
   "execution_count": 2,
   "metadata": {},
   "outputs": [
    {
     "name": "stdout",
     "output_type": "stream",
     "text": [
      "[0, 100, 200, 300]\n"
     ]
    }
   ],
   "source": [
    "# Por cada elemento en ese índice, multiplica su valor por 10 y guárdalo\n",
    "for elem, num in enumerate(nums):\n",
    "    nums[elem] *= 10\n",
    "\n",
    "print(nums)"
   ]
  },
  {
   "cell_type": "code",
   "execution_count": 3,
   "metadata": {},
   "outputs": [
    {
     "name": "stdout",
     "output_type": "stream",
     "text": [
      "H\n",
      "o\n",
      "l\n",
      "a\n",
      " \n",
      "M\n",
      "u\n",
      "n\n",
      "d\n",
      "o\n"
     ]
    }
   ],
   "source": [
    "cad = \"Hola Mundo\"\n",
    "for car in cad:\n",
    "    print(car)"
   ]
  },
  {
   "attachments": {},
   "cell_type": "markdown",
   "metadata": {},
   "source": [
    "### **_<font color='skyblue'>range()</font>_**\n",
    "\n",
    "#### **Permite generar un rango de números, con los cuales podemos hacer operaciones e incluso la equivalencia a ciclos \"for\".**"
   ]
  },
  {
   "cell_type": "code",
   "execution_count": 6,
   "metadata": {},
   "outputs": [
    {
     "name": "stdout",
     "output_type": "stream",
     "text": [
      "0\n",
      "1\n",
      "2\n",
      "3\n",
      "4\n"
     ]
    }
   ],
   "source": [
    "rango = range(0, 5, 1)\n",
    "for i in rango:\n",
    "    print(i)"
   ]
  },
  {
   "cell_type": "code",
   "execution_count": 7,
   "metadata": {},
   "outputs": [
    {
     "name": "stdout",
     "output_type": "stream",
     "text": [
      "[0, 1, 2, 3, 4]\n",
      "0\n",
      "1\n",
      "2\n",
      "3\n",
      "4\n"
     ]
    }
   ],
   "source": [
    "lista = list(range(5))\n",
    "print(lista)\n",
    "for i in lista:\n",
    "    print(i)"
   ]
  },
  {
   "cell_type": "code",
   "execution_count": 9,
   "metadata": {},
   "outputs": [
    {
     "name": "stdout",
     "output_type": "stream",
     "text": [
      "range(0, 5)\n",
      "0\n",
      "range(0, 5)\n",
      "1\n",
      "range(0, 5)\n",
      "2\n",
      "range(0, 5)\n",
      "3\n",
      "range(0, 5)\n",
      "4\n"
     ]
    }
   ],
   "source": [
    "for i in range(5):\n",
    "    print(range(5))\n",
    "    print(i)"
   ]
  }
 ],
 "metadata": {
  "kernelspec": {
   "display_name": "Python 3",
   "language": "python",
   "name": "python3"
  },
  "language_info": {
   "codemirror_mode": {
    "name": "ipython",
    "version": 3
   },
   "file_extension": ".py",
   "mimetype": "text/x-python",
   "name": "python",
   "nbconvert_exporter": "python",
   "pygments_lexer": "ipython3",
   "version": "3.11.2"
  },
  "orig_nbformat": 4
 },
 "nbformat": 4,
 "nbformat_minor": 2
}
