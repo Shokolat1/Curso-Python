{
 "cells": [
  {
   "attachments": {},
   "cell_type": "markdown",
   "metadata": {},
   "source": [
    "# <font color=\"skyblue\"> **4.2 Bucles While** </font>\n",
    "\n",
    "#### **Un bucle es una secuencia que ejecuta una acción varias veces hasta que la condición asignada a ese bucle deje de cumplirse. Se le conoce como _\"Iteración\"_ a cada nueva ejecución de la secuencia.**\n",
    "\n",
    "#### **La sentencia _while_ repite operaciones mientras la condición que evalúa sea verdadera.**\n",
    "\n",
    "#### **El programador debe planificar un momento en que la condición anterior sea falsa para que se detenga el bucle. De otra manera se obtiene un bucle infinito...**"
   ]
  },
  {
   "cell_type": "code",
   "execution_count": 3,
   "metadata": {},
   "outputs": [
    {
     "name": "stdout",
     "output_type": "stream",
     "text": [
      "El contador vale 1\n",
      "El contador vale 2\n",
      "El contador vale 3\n",
      "El contador vale 4\n",
      "El contador vale 5\n",
      "El contador vale 6\n"
     ]
    }
   ],
   "source": [
    "count = 0\n",
    "\n",
    "while count <= 5:\n",
    "    count += 1\n",
    "    print(f'El contador vale {count}')"
   ]
  },
  {
   "cell_type": "code",
   "execution_count": 4,
   "metadata": {},
   "outputs": [
    {
     "name": "stdout",
     "output_type": "stream",
     "text": [
      "el contador vale 0\n",
      "el contador vale 1\n",
      "el contador vale 2\n",
      "el contador vale 3\n",
      "el contador vale 4\n",
      "el contador vale 5\n",
      "Se hicieron 6 iteraciones\n"
     ]
    }
   ],
   "source": [
    "a = 0\n",
    "\n",
    "while a <= 5:\n",
    "    print(f'el contador vale {a}')\n",
    "    a += 1\n",
    "else:\n",
    "    print(f'Se hicieron {a} iteraciones')"
   ]
  },
  {
   "attachments": {},
   "cell_type": "markdown",
   "metadata": {},
   "source": [
    "### **_<font color='skyblue'>Break</font>_**\n",
    "\n",
    "#### **Con este comando podemos detener un bucle en cualquier momento.**"
   ]
  },
  {
   "cell_type": "code",
   "execution_count": 5,
   "metadata": {},
   "outputs": [
    {
     "name": "stdout",
     "output_type": "stream",
     "text": [
      "Cuenta vale 1\n",
      "Cuenta vale 2\n",
      "Cuenta vale 3\n",
      "Rompemos el bucle cuando Cuenta vale 4\n"
     ]
    }
   ],
   "source": [
    "cuenta = 0\n",
    "\n",
    "while cuenta <= 5:\n",
    "    cuenta += 1\n",
    "    if cuenta == 4:\n",
    "        print(f'Rompemos el bucle cuando Cuenta vale {cuenta}')\n",
    "        break\n",
    "    print(f'Cuenta vale {cuenta}')\n",
    "else:\n",
    "    print(f'Se iteró {cuenta} veces')"
   ]
  },
  {
   "attachments": {},
   "cell_type": "markdown",
   "metadata": {},
   "source": [
    "### **_<font color='skyblue'>Continue</font>_**\n",
    "\n",
    "#### **Con este comando saltamos a la siguiente iteración sin romper el bucle.**"
   ]
  },
  {
   "cell_type": "code",
   "execution_count": 6,
   "metadata": {},
   "outputs": [
    {
     "name": "stdout",
     "output_type": "stream",
     "text": [
      "Q vale 1\n",
      "Ya que Q vale 2, saltamos la iteración y vamos a la siguiente.\n",
      "Q vale 3\n",
      "Ya que Q vale 4, saltamos la iteración y vamos a la siguiente.\n",
      "Q vale 5\n",
      "Q vale 6\n",
      "Se iteró 6 veces\n"
     ]
    }
   ],
   "source": [
    "q = 0\n",
    "\n",
    "while q <= 5:\n",
    "    q += 1\n",
    "    if q == 2 or q == 4:\n",
    "        print(f'Ya que Q vale {q}, saltamos la iteración y vamos a la siguiente.')\n",
    "        continue\n",
    "    print(f'Q vale {q}')\n",
    "else:\n",
    "    print(f'Se iteró {q} veces')"
   ]
  },
  {
   "cell_type": "code",
   "execution_count": 7,
   "metadata": {},
   "outputs": [
    {
     "name": "stdout",
     "output_type": "stream",
     "text": [
      "Bienvenido!\n",
      "Usted escogió la opción 2\n",
      "El resultado de sumar 47.0 y 13.0 es 60.0\n",
      "Usted escogió la opción 1\n",
      "Hola!\n",
      "Usted escogió la opción 1\n",
      "Hola!\n",
      "Usted escogió la opción 3\n",
      "Nos vemos!\n"
     ]
    }
   ],
   "source": [
    "# Menú de Usuario\n",
    "print('Bienvenido!')\n",
    "\n",
    "while(True):\n",
    "    opt = input(f\"\"\"\n",
    "    Qué quieres hacer? (Ingresa la opción)\n",
    "    1) Saludar\n",
    "    2) Sumar 2 nums\n",
    "    3) Salir\"\"\")\n",
    "    print(f'Usted escogió la opción {opt}')\n",
    "\n",
    "    if opt == '1':\n",
    "        print('Hola!')\n",
    "    elif opt == '2':\n",
    "        num1 = float(input('Dame el num 1:'))\n",
    "        num2 = float(input('Dame el num 2:'))\n",
    "        res = num1 + num2\n",
    "        print(f'El resultado de sumar {num1} y {num2} es {res}')\n",
    "    elif opt == '3':\n",
    "        print('Nos vemos!')\n",
    "        break\n",
    "    else:\n",
    "        print('Opción incorrecta, intente de nuevo...')"
   ]
  }
 ],
 "metadata": {
  "kernelspec": {
   "display_name": "Python 3",
   "language": "python",
   "name": "python3"
  },
  "language_info": {
   "codemirror_mode": {
    "name": "ipython",
    "version": 3
   },
   "file_extension": ".py",
   "mimetype": "text/x-python",
   "name": "python",
   "nbconvert_exporter": "python",
   "pygments_lexer": "ipython3",
   "version": "3.11.2"
  },
  "orig_nbformat": 4
 },
 "nbformat": 4,
 "nbformat_minor": 2
}
